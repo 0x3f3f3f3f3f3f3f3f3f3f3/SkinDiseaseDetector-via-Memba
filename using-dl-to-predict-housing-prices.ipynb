{
 "cells": [
  {
   "cell_type": "markdown",
   "id": "greater-particle",
   "metadata": {
    "papermill": {
     "duration": 0.036295,
     "end_time": "2021-06-11T02:04:04.743606",
     "exception": false,
     "start_time": "2021-06-11T02:04:04.707311",
     "status": "completed"
    },
    "tags": []
   },
   "source": [
    "这个方法完全仿照课上PPT的做法。"
   ]
  },
  {
   "cell_type": "markdown",
   "id": "under-sixth",
   "metadata": {
    "papermill": {
     "duration": 0.034367,
     "end_time": "2021-06-11T02:04:04.812853",
     "exception": false,
     "start_time": "2021-06-11T02:04:04.778486",
     "status": "completed"
    },
    "tags": []
   },
   "source": [
    "## 导入数据"
   ]
  },
  {
   "cell_type": "code",
   "execution_count": 1,
   "id": "separated-coverage",
   "metadata": {
    "execution": {
     "iopub.execute_input": "2021-06-11T02:04:04.892162Z",
     "iopub.status.busy": "2021-06-11T02:04:04.891666Z",
     "iopub.status.idle": "2021-06-11T02:04:13.484045Z",
     "shell.execute_reply": "2021-06-11T02:04:13.484481Z",
     "shell.execute_reply.started": "2021-06-11T01:55:11.099339Z"
    },
    "papermill": {
     "duration": 8.636765,
     "end_time": "2021-06-11T02:04:13.484734",
     "exception": false,
     "start_time": "2021-06-11T02:04:04.847969",
     "status": "completed"
    },
    "tags": []
   },
   "outputs": [
    {
     "name": "stdout",
     "output_type": "stream",
     "text": [
      "Collecting d2l\r\n",
      "  Downloading d2l-0.16.5-py3-none-any.whl (77 kB)\r\n",
      "\u001b[K     |████████████████████████████████| 77 kB 618 kB/s \r\n",
      "\u001b[?25hRequirement already satisfied: pandas in /opt/conda/lib/python3.7/site-packages (from d2l) (1.1.5)\r\n",
      "Requirement already satisfied: requests in /opt/conda/lib/python3.7/site-packages (from d2l) (2.25.1)\r\n",
      "Collecting jupyter\r\n",
      "  Downloading jupyter-1.0.0-py2.py3-none-any.whl (2.7 kB)\r\n",
      "Requirement already satisfied: matplotlib in /opt/conda/lib/python3.7/site-packages (from d2l) (3.4.1)\r\n",
      "Requirement already satisfied: numpy in /opt/conda/lib/python3.7/site-packages (from d2l) (1.19.5)\r\n",
      "Requirement already satisfied: ipywidgets in /opt/conda/lib/python3.7/site-packages (from jupyter->d2l) (7.6.3)\r\n",
      "Requirement already satisfied: nbconvert in /opt/conda/lib/python3.7/site-packages (from jupyter->d2l) (6.0.7)\r\n",
      "Requirement already satisfied: jupyter-console in /opt/conda/lib/python3.7/site-packages (from jupyter->d2l) (6.4.0)\r\n",
      "Requirement already satisfied: notebook in /opt/conda/lib/python3.7/site-packages (from jupyter->d2l) (6.3.0)\r\n",
      "Requirement already satisfied: ipykernel in /opt/conda/lib/python3.7/site-packages (from jupyter->d2l) (5.5.0)\r\n",
      "Requirement already satisfied: qtconsole in /opt/conda/lib/python3.7/site-packages (from jupyter->d2l) (5.0.3)\r\n",
      "Requirement already satisfied: ipython>=5.0.0 in /opt/conda/lib/python3.7/site-packages (from ipykernel->jupyter->d2l) (7.22.0)\r\n",
      "Requirement already satisfied: jupyter-client in /opt/conda/lib/python3.7/site-packages (from ipykernel->jupyter->d2l) (6.1.12)\r\n",
      "Requirement already satisfied: tornado>=4.2 in /opt/conda/lib/python3.7/site-packages (from ipykernel->jupyter->d2l) (6.1)\r\n",
      "Requirement already satisfied: traitlets>=4.1.0 in /opt/conda/lib/python3.7/site-packages (from ipykernel->jupyter->d2l) (5.0.5)\r\n",
      "Requirement already satisfied: prompt-toolkit!=3.0.0,!=3.0.1,<3.1.0,>=2.0.0 in /opt/conda/lib/python3.7/site-packages (from ipython>=5.0.0->ipykernel->jupyter->d2l) (3.0.18)\r\n",
      "Requirement already satisfied: setuptools>=18.5 in /opt/conda/lib/python3.7/site-packages (from ipython>=5.0.0->ipykernel->jupyter->d2l) (49.6.0.post20210108)\r\n",
      "Requirement already satisfied: backcall in /opt/conda/lib/python3.7/site-packages (from ipython>=5.0.0->ipykernel->jupyter->d2l) (0.2.0)\r\n",
      "Requirement already satisfied: decorator in /opt/conda/lib/python3.7/site-packages (from ipython>=5.0.0->ipykernel->jupyter->d2l) (4.4.2)\r\n",
      "Requirement already satisfied: pexpect>4.3 in /opt/conda/lib/python3.7/site-packages (from ipython>=5.0.0->ipykernel->jupyter->d2l) (4.8.0)\r\n",
      "Requirement already satisfied: jedi>=0.16 in /opt/conda/lib/python3.7/site-packages (from ipython>=5.0.0->ipykernel->jupyter->d2l) (0.18.0)\r\n",
      "Requirement already satisfied: pickleshare in /opt/conda/lib/python3.7/site-packages (from ipython>=5.0.0->ipykernel->jupyter->d2l) (0.7.5)\r\n",
      "Requirement already satisfied: pygments in /opt/conda/lib/python3.7/site-packages (from ipython>=5.0.0->ipykernel->jupyter->d2l) (2.8.1)\r\n",
      "Requirement already satisfied: parso<0.9.0,>=0.8.0 in /opt/conda/lib/python3.7/site-packages (from jedi>=0.16->ipython>=5.0.0->ipykernel->jupyter->d2l) (0.8.1)\r\n",
      "Requirement already satisfied: ptyprocess>=0.5 in /opt/conda/lib/python3.7/site-packages (from pexpect>4.3->ipython>=5.0.0->ipykernel->jupyter->d2l) (0.7.0)\r\n",
      "Requirement already satisfied: wcwidth in /opt/conda/lib/python3.7/site-packages (from prompt-toolkit!=3.0.0,!=3.0.1,<3.1.0,>=2.0.0->ipython>=5.0.0->ipykernel->jupyter->d2l) (0.2.5)\r\n",
      "Requirement already satisfied: ipython-genutils in /opt/conda/lib/python3.7/site-packages (from traitlets>=4.1.0->ipykernel->jupyter->d2l) (0.2.0)\r\n",
      "Requirement already satisfied: jupyterlab-widgets>=1.0.0 in /opt/conda/lib/python3.7/site-packages (from ipywidgets->jupyter->d2l) (1.0.0)\r\n",
      "Requirement already satisfied: widgetsnbextension~=3.5.0 in /opt/conda/lib/python3.7/site-packages (from ipywidgets->jupyter->d2l) (3.5.1)\r\n",
      "Requirement already satisfied: nbformat>=4.2.0 in /opt/conda/lib/python3.7/site-packages (from ipywidgets->jupyter->d2l) (5.1.2)\r\n",
      "Requirement already satisfied: jsonschema!=2.5.0,>=2.4 in /opt/conda/lib/python3.7/site-packages (from nbformat>=4.2.0->ipywidgets->jupyter->d2l) (3.2.0)\r\n",
      "Requirement already satisfied: jupyter-core in /opt/conda/lib/python3.7/site-packages (from nbformat>=4.2.0->ipywidgets->jupyter->d2l) (4.7.1)\r\n",
      "Requirement already satisfied: importlib-metadata in /opt/conda/lib/python3.7/site-packages (from jsonschema!=2.5.0,>=2.4->nbformat>=4.2.0->ipywidgets->jupyter->d2l) (3.4.0)\r\n",
      "Requirement already satisfied: attrs>=17.4.0 in /opt/conda/lib/python3.7/site-packages (from jsonschema!=2.5.0,>=2.4->nbformat>=4.2.0->ipywidgets->jupyter->d2l) (20.3.0)\r\n",
      "Requirement already satisfied: six>=1.11.0 in /opt/conda/lib/python3.7/site-packages (from jsonschema!=2.5.0,>=2.4->nbformat>=4.2.0->ipywidgets->jupyter->d2l) (1.15.0)\r\n",
      "Requirement already satisfied: pyrsistent>=0.14.0 in /opt/conda/lib/python3.7/site-packages (from jsonschema!=2.5.0,>=2.4->nbformat>=4.2.0->ipywidgets->jupyter->d2l) (0.17.3)\r\n",
      "Requirement already satisfied: Send2Trash>=1.5.0 in /opt/conda/lib/python3.7/site-packages (from notebook->jupyter->d2l) (1.5.0)\r\n",
      "Requirement already satisfied: prometheus-client in /opt/conda/lib/python3.7/site-packages (from notebook->jupyter->d2l) (0.9.0)\r\n",
      "Requirement already satisfied: pyzmq>=17 in /opt/conda/lib/python3.7/site-packages (from notebook->jupyter->d2l) (22.0.3)\r\n",
      "Requirement already satisfied: jinja2 in /opt/conda/lib/python3.7/site-packages (from notebook->jupyter->d2l) (2.11.3)\r\n",
      "Requirement already satisfied: argon2-cffi in /opt/conda/lib/python3.7/site-packages (from notebook->jupyter->d2l) (20.1.0)\r\n",
      "Requirement already satisfied: terminado>=0.8.3 in /opt/conda/lib/python3.7/site-packages (from notebook->jupyter->d2l) (0.9.3)\r\n",
      "Requirement already satisfied: python-dateutil>=2.1 in /opt/conda/lib/python3.7/site-packages (from jupyter-client->ipykernel->jupyter->d2l) (2.8.1)\r\n",
      "Requirement already satisfied: cffi>=1.0.0 in /opt/conda/lib/python3.7/site-packages (from argon2-cffi->notebook->jupyter->d2l) (1.14.5)\r\n",
      "Requirement already satisfied: pycparser in /opt/conda/lib/python3.7/site-packages (from cffi>=1.0.0->argon2-cffi->notebook->jupyter->d2l) (2.20)\r\n",
      "Requirement already satisfied: typing-extensions>=3.6.4 in /opt/conda/lib/python3.7/site-packages (from importlib-metadata->jsonschema!=2.5.0,>=2.4->nbformat>=4.2.0->ipywidgets->jupyter->d2l) (3.7.4.3)\r\n",
      "Requirement already satisfied: zipp>=0.5 in /opt/conda/lib/python3.7/site-packages (from importlib-metadata->jsonschema!=2.5.0,>=2.4->nbformat>=4.2.0->ipywidgets->jupyter->d2l) (3.4.1)\r\n",
      "Requirement already satisfied: MarkupSafe>=0.23 in /opt/conda/lib/python3.7/site-packages (from jinja2->notebook->jupyter->d2l) (1.1.1)\r\n",
      "Requirement already satisfied: kiwisolver>=1.0.1 in /opt/conda/lib/python3.7/site-packages (from matplotlib->d2l) (1.3.1)\r\n",
      "Requirement already satisfied: pyparsing>=2.2.1 in /opt/conda/lib/python3.7/site-packages (from matplotlib->d2l) (2.4.7)\r\n",
      "Requirement already satisfied: cycler>=0.10 in /opt/conda/lib/python3.7/site-packages (from matplotlib->d2l) (0.10.0)\r\n",
      "Requirement already satisfied: pillow>=6.2.0 in /opt/conda/lib/python3.7/site-packages (from matplotlib->d2l) (7.2.0)\r\n",
      "Requirement already satisfied: pandocfilters>=1.4.1 in /opt/conda/lib/python3.7/site-packages (from nbconvert->jupyter->d2l) (1.4.2)\r\n",
      "Requirement already satisfied: bleach in /opt/conda/lib/python3.7/site-packages (from nbconvert->jupyter->d2l) (3.3.0)\r\n",
      "Requirement already satisfied: testpath in /opt/conda/lib/python3.7/site-packages (from nbconvert->jupyter->d2l) (0.4.4)\r\n",
      "Requirement already satisfied: nbclient<0.6.0,>=0.5.0 in /opt/conda/lib/python3.7/site-packages (from nbconvert->jupyter->d2l) (0.5.3)\r\n",
      "Requirement already satisfied: jupyterlab-pygments in /opt/conda/lib/python3.7/site-packages (from nbconvert->jupyter->d2l) (0.1.2)\r\n",
      "Requirement already satisfied: mistune<2,>=0.8.1 in /opt/conda/lib/python3.7/site-packages (from nbconvert->jupyter->d2l) (0.8.4)\r\n",
      "Requirement already satisfied: entrypoints>=0.2.2 in /opt/conda/lib/python3.7/site-packages (from nbconvert->jupyter->d2l) (0.3)\r\n",
      "Requirement already satisfied: defusedxml in /opt/conda/lib/python3.7/site-packages (from nbconvert->jupyter->d2l) (0.7.1)\r\n",
      "Requirement already satisfied: async-generator in /opt/conda/lib/python3.7/site-packages (from nbclient<0.6.0,>=0.5.0->nbconvert->jupyter->d2l) (1.10)\r\n",
      "Requirement already satisfied: nest-asyncio in /opt/conda/lib/python3.7/site-packages (from nbclient<0.6.0,>=0.5.0->nbconvert->jupyter->d2l) (1.4.3)\r\n",
      "Requirement already satisfied: webencodings in /opt/conda/lib/python3.7/site-packages (from bleach->nbconvert->jupyter->d2l) (0.5.1)\r\n",
      "Requirement already satisfied: packaging in /opt/conda/lib/python3.7/site-packages (from bleach->nbconvert->jupyter->d2l) (20.9)\r\n",
      "Requirement already satisfied: pytz>=2017.2 in /opt/conda/lib/python3.7/site-packages (from pandas->d2l) (2021.1)\r\n",
      "Requirement already satisfied: qtpy in /opt/conda/lib/python3.7/site-packages (from qtconsole->jupyter->d2l) (1.9.0)\r\n",
      "Requirement already satisfied: chardet<5,>=3.0.2 in /opt/conda/lib/python3.7/site-packages (from requests->d2l) (4.0.0)\r\n",
      "Requirement already satisfied: idna<3,>=2.5 in /opt/conda/lib/python3.7/site-packages (from requests->d2l) (2.10)\r\n",
      "Requirement already satisfied: urllib3<1.27,>=1.21.1 in /opt/conda/lib/python3.7/site-packages (from requests->d2l) (1.26.4)\r\n",
      "Requirement already satisfied: certifi>=2017.4.17 in /opt/conda/lib/python3.7/site-packages (from requests->d2l) (2020.12.5)\r\n",
      "Installing collected packages: jupyter, d2l\r\n",
      "Successfully installed d2l-0.16.5 jupyter-1.0.0\r\n",
      "Note: you may need to restart the kernel to use updated packages.\n"
     ]
    }
   ],
   "source": [
    "pip install -U d2l"
   ]
  },
  {
   "cell_type": "code",
   "execution_count": 2,
   "id": "annoying-guarantee",
   "metadata": {
    "execution": {
     "iopub.execute_input": "2021-06-11T02:04:13.570483Z",
     "iopub.status.busy": "2021-06-11T02:04:13.569721Z",
     "iopub.status.idle": "2021-06-11T02:04:16.742933Z",
     "shell.execute_reply": "2021-06-11T02:04:16.742342Z",
     "shell.execute_reply.started": "2021-06-11T01:55:19.414278Z"
    },
    "papermill": {
     "duration": 3.21739,
     "end_time": "2021-06-11T02:04:16.743057",
     "exception": false,
     "start_time": "2021-06-11T02:04:13.525667",
     "status": "completed"
    },
    "tags": []
   },
   "outputs": [],
   "source": [
    "import numpy as np\n",
    "import pandas as pd\n",
    "import torch\n",
    "from torch import nn\n",
    "from d2l import torch as d2l\n",
    "\n",
    "train_data = pd.read_csv(\"../input/california-house-prices/train.csv\")\n",
    "test_data = pd.read_csv(\"../input/california-house-prices/test.csv\")"
   ]
  },
  {
   "cell_type": "code",
   "execution_count": 3,
   "id": "favorite-maximum",
   "metadata": {
    "execution": {
     "iopub.execute_input": "2021-06-11T02:04:16.830334Z",
     "iopub.status.busy": "2021-06-11T02:04:16.828855Z",
     "iopub.status.idle": "2021-06-11T02:04:16.832630Z",
     "shell.execute_reply": "2021-06-11T02:04:16.832182Z",
     "shell.execute_reply.started": "2021-06-11T01:55:20.550502Z"
    },
    "papermill": {
     "duration": 0.048319,
     "end_time": "2021-06-11T02:04:16.832735",
     "exception": false,
     "start_time": "2021-06-11T02:04:16.784416",
     "status": "completed"
    },
    "tags": []
   },
   "outputs": [
    {
     "name": "stdout",
     "output_type": "stream",
     "text": [
      "(47439, 41)\n",
      "(31626, 40)\n"
     ]
    }
   ],
   "source": [
    "print(train_data.shape)\n",
    "print(test_data.shape)"
   ]
  },
  {
   "cell_type": "markdown",
   "id": "through-communist",
   "metadata": {
    "papermill": {
     "duration": 0.039939,
     "end_time": "2021-06-11T02:04:16.912853",
     "exception": false,
     "start_time": "2021-06-11T02:04:16.872914",
     "status": "completed"
    },
    "tags": []
   },
   "source": [
    "其中*trian_data*比*test_data*多了一列，这一列就是我们要预测的房价。"
   ]
  },
  {
   "cell_type": "code",
   "execution_count": 4,
   "id": "caring-express",
   "metadata": {
    "execution": {
     "iopub.execute_input": "2021-06-11T02:04:17.004683Z",
     "iopub.status.busy": "2021-06-11T02:04:17.004038Z",
     "iopub.status.idle": "2021-06-11T02:04:17.007608Z",
     "shell.execute_reply": "2021-06-11T02:04:17.007992Z",
     "shell.execute_reply.started": "2021-06-11T01:55:20.560057Z"
    },
    "papermill": {
     "duration": 0.053643,
     "end_time": "2021-06-11T02:04:17.008106",
     "exception": false,
     "start_time": "2021-06-11T02:04:16.954463",
     "status": "completed"
    },
    "tags": []
   },
   "outputs": [
    {
     "data": {
      "text/plain": [
       "['Sold Price']"
      ]
     },
     "execution_count": 4,
     "metadata": {},
     "output_type": "execute_result"
    }
   ],
   "source": [
    "[i for i in train_data.columns if i not in test_data.columns]"
   ]
  },
  {
   "cell_type": "markdown",
   "id": "requested-magazine",
   "metadata": {
    "papermill": {
     "duration": 0.041079,
     "end_time": "2021-06-11T02:04:17.090165",
     "exception": false,
     "start_time": "2021-06-11T02:04:17.049086",
     "status": "completed"
    },
    "tags": []
   },
   "source": [
    "从上面可以看出，我们要预测的房价列名为```Sold Price```"
   ]
  },
  {
   "cell_type": "markdown",
   "id": "involved-rotation",
   "metadata": {
    "papermill": {
     "duration": 0.040249,
     "end_time": "2021-06-11T02:04:17.171162",
     "exception": false,
     "start_time": "2021-06-11T02:04:17.130913",
     "status": "completed"
    },
    "tags": []
   },
   "source": [
    "## 数据预处理"
   ]
  },
  {
   "cell_type": "markdown",
   "id": "universal-establishment",
   "metadata": {
    "papermill": {
     "duration": 0.040415,
     "end_time": "2021-06-11T02:04:17.252027",
     "exception": false,
     "start_time": "2021-06-11T02:04:17.211612",
     "status": "completed"
    },
    "tags": []
   },
   "source": [
    "### 特征选择"
   ]
  },
  {
   "cell_type": "markdown",
   "id": "blessed-hanging",
   "metadata": {
    "papermill": {
     "duration": 0.040359,
     "end_time": "2021-06-11T02:04:17.333227",
     "exception": false,
     "start_time": "2021-06-11T02:04:17.292868",
     "status": "completed"
    },
    "tags": []
   },
   "source": [
    "因为kaggle上内存有限，需要选择好哪些特征再进行下一步操作，以免超限。"
   ]
  },
  {
   "cell_type": "markdown",
   "id": "christian-touch",
   "metadata": {
    "papermill": {
     "duration": 0.040299,
     "end_time": "2021-06-11T02:04:17.414340",
     "exception": false,
     "start_time": "2021-06-11T02:04:17.374041",
     "status": "completed"
    },
    "tags": []
   },
   "source": [
    "为了让训练集和测试集一起完成数据预处理，还需要```cancat```。"
   ]
  },
  {
   "cell_type": "markdown",
   "id": "virgin-freedom",
   "metadata": {
    "papermill": {
     "duration": 0.040368,
     "end_time": "2021-06-11T02:04:17.495159",
     "exception": false,
     "start_time": "2021-06-11T02:04:17.454791",
     "status": "completed"
    },
    "tags": []
   },
   "source": [
    "我们先需要看一下train_data和test_data有哪些特征："
   ]
  },
  {
   "cell_type": "code",
   "execution_count": 5,
   "id": "sophisticated-latter",
   "metadata": {
    "execution": {
     "iopub.execute_input": "2021-06-11T02:04:17.581732Z",
     "iopub.status.busy": "2021-06-11T02:04:17.580987Z",
     "iopub.status.idle": "2021-06-11T02:04:17.585039Z",
     "shell.execute_reply": "2021-06-11T02:04:17.585415Z",
     "shell.execute_reply.started": "2021-06-11T01:55:20.574949Z"
    },
    "papermill": {
     "duration": 0.049514,
     "end_time": "2021-06-11T02:04:17.585539",
     "exception": false,
     "start_time": "2021-06-11T02:04:17.536025",
     "status": "completed"
    },
    "tags": []
   },
   "outputs": [
    {
     "data": {
      "text/plain": [
       "Index(['Id', 'Address', 'Sold Price', 'Summary', 'Type', 'Year built',\n",
       "       'Heating', 'Cooling', 'Parking', 'Lot', 'Bedrooms', 'Bathrooms',\n",
       "       'Full bathrooms', 'Total interior livable area', 'Total spaces',\n",
       "       'Garage spaces', 'Region', 'Elementary School',\n",
       "       'Elementary School Score', 'Elementary School Distance',\n",
       "       'Middle School', 'Middle School Score', 'Middle School Distance',\n",
       "       'High School', 'High School Score', 'High School Distance', 'Flooring',\n",
       "       'Heating features', 'Cooling features', 'Appliances included',\n",
       "       'Laundry features', 'Parking features', 'Tax assessed value',\n",
       "       'Annual tax amount', 'Listed On', 'Listed Price', 'Last Sold On',\n",
       "       'Last Sold Price', 'City', 'Zip', 'State'],\n",
       "      dtype='object')"
      ]
     },
     "execution_count": 5,
     "metadata": {},
     "output_type": "execute_result"
    }
   ],
   "source": [
    "train_data.columns"
   ]
  },
  {
   "cell_type": "code",
   "execution_count": 6,
   "id": "marine-custom",
   "metadata": {
    "execution": {
     "iopub.execute_input": "2021-06-11T02:04:17.671307Z",
     "iopub.status.busy": "2021-06-11T02:04:17.670760Z",
     "iopub.status.idle": "2021-06-11T02:04:17.675029Z",
     "shell.execute_reply": "2021-06-11T02:04:17.675482Z",
     "shell.execute_reply.started": "2021-06-11T01:55:20.588479Z"
    },
    "papermill": {
     "duration": 0.049094,
     "end_time": "2021-06-11T02:04:17.675602",
     "exception": false,
     "start_time": "2021-06-11T02:04:17.626508",
     "status": "completed"
    },
    "tags": []
   },
   "outputs": [
    {
     "data": {
      "text/plain": [
       "Index(['Id', 'Address', 'Summary', 'Type', 'Year built', 'Heating', 'Cooling',\n",
       "       'Parking', 'Lot', 'Bedrooms', 'Bathrooms', 'Full bathrooms',\n",
       "       'Total interior livable area', 'Total spaces', 'Garage spaces',\n",
       "       'Region', 'Elementary School', 'Elementary School Score',\n",
       "       'Elementary School Distance', 'Middle School', 'Middle School Score',\n",
       "       'Middle School Distance', 'High School', 'High School Score',\n",
       "       'High School Distance', 'Flooring', 'Heating features',\n",
       "       'Cooling features', 'Appliances included', 'Laundry features',\n",
       "       'Parking features', 'Tax assessed value', 'Annual tax amount',\n",
       "       'Listed On', 'Listed Price', 'Last Sold On', 'Last Sold Price', 'City',\n",
       "       'Zip', 'State'],\n",
       "      dtype='object')"
      ]
     },
     "execution_count": 6,
     "metadata": {},
     "output_type": "execute_result"
    }
   ],
   "source": [
    "test_data.columns"
   ]
  },
  {
   "cell_type": "markdown",
   "id": "overall-wesley",
   "metadata": {
    "papermill": {
     "duration": 0.041083,
     "end_time": "2021-06-11T02:04:17.757874",
     "exception": false,
     "start_time": "2021-06-11T02:04:17.716791",
     "status": "completed"
    },
    "tags": []
   },
   "source": [
    "train_data中```Sold Price```需要剔除，因为是标签。\n",
    "train_data和test_data中的```Id```需要剔除，因为和结果无关。"
   ]
  },
  {
   "cell_type": "markdown",
   "id": "lasting-conversation",
   "metadata": {
    "papermill": {
     "duration": 0.040823,
     "end_time": "2021-06-11T02:04:17.839600",
     "exception": false,
     "start_time": "2021-06-11T02:04:17.798777",
     "status": "completed"
    },
    "tags": []
   },
   "source": [
    "除此之外，因为都是加州的房子，需要剔除```State```;```Summary```是文本数据，分析有限就直接剔除，同理```Address```：每个房子的地址都不同，如果进行独热编码负担太大，分析也有限，所以也剔除。"
   ]
  },
  {
   "cell_type": "code",
   "execution_count": 7,
   "id": "alien-efficiency",
   "metadata": {
    "execution": {
     "iopub.execute_input": "2021-06-11T02:04:17.947770Z",
     "iopub.status.busy": "2021-06-11T02:04:17.946958Z",
     "iopub.status.idle": "2021-06-11T02:04:18.013369Z",
     "shell.execute_reply": "2021-06-11T02:04:18.012915Z",
     "shell.execute_reply.started": "2021-06-11T01:55:20.601338Z"
    },
    "papermill": {
     "duration": 0.13297,
     "end_time": "2021-06-11T02:04:18.013493",
     "exception": false,
     "start_time": "2021-06-11T02:04:17.880523",
     "status": "completed"
    },
    "tags": []
   },
   "outputs": [],
   "source": [
    "all_features = pd.concat((train_data.iloc[:, 4:-1], test_data.iloc[:, 3:-1]))"
   ]
  },
  {
   "cell_type": "code",
   "execution_count": 8,
   "id": "vocational-thesaurus",
   "metadata": {
    "execution": {
     "iopub.execute_input": "2021-06-11T02:04:18.100895Z",
     "iopub.status.busy": "2021-06-11T02:04:18.100391Z",
     "iopub.status.idle": "2021-06-11T02:04:18.105582Z",
     "shell.execute_reply": "2021-06-11T02:04:18.106081Z",
     "shell.execute_reply.started": "2021-06-11T01:55:20.689694Z"
    },
    "papermill": {
     "duration": 0.050899,
     "end_time": "2021-06-11T02:04:18.106220",
     "exception": false,
     "start_time": "2021-06-11T02:04:18.055321",
     "status": "completed"
    },
    "tags": []
   },
   "outputs": [
    {
     "data": {
      "text/plain": [
       "(79065, 36)"
      ]
     },
     "execution_count": 8,
     "metadata": {},
     "output_type": "execute_result"
    }
   ],
   "source": [
    "all_features.shape"
   ]
  },
  {
   "cell_type": "markdown",
   "id": "narrative-henry",
   "metadata": {
    "papermill": {
     "duration": 0.04127,
     "end_time": "2021-06-11T02:04:18.188772",
     "exception": false,
     "start_time": "2021-06-11T02:04:18.147502",
     "status": "completed"
    },
    "tags": []
   },
   "source": [
    "### 处理缺失数据"
   ]
  },
  {
   "cell_type": "markdown",
   "id": "moved-canon",
   "metadata": {
    "papermill": {
     "duration": 0.041028,
     "end_time": "2021-06-11T02:04:18.271128",
     "exception": false,
     "start_time": "2021-06-11T02:04:18.230100",
     "status": "completed"
    },
    "tags": []
   },
   "source": [
    "先看一下有哪些列有缺失值："
   ]
  },
  {
   "cell_type": "code",
   "execution_count": 9,
   "id": "ecological-better",
   "metadata": {
    "execution": {
     "iopub.execute_input": "2021-06-11T02:04:18.364481Z",
     "iopub.status.busy": "2021-06-11T02:04:18.363851Z",
     "iopub.status.idle": "2021-06-11T02:04:18.484312Z",
     "shell.execute_reply": "2021-06-11T02:04:18.483862Z",
     "shell.execute_reply.started": "2021-06-11T01:55:20.700716Z"
    },
    "papermill": {
     "duration": 0.171629,
     "end_time": "2021-06-11T02:04:18.484433",
     "exception": false,
     "start_time": "2021-06-11T02:04:18.312804",
     "status": "completed"
    },
    "tags": []
   },
   "outputs": [
    {
     "data": {
      "text/plain": [
       "Year built                      1942\n",
       "Heating                        11513\n",
       "Cooling                        15109\n",
       "Parking                         1676\n",
       "Lot                            22989\n",
       "Bedrooms                        4598\n",
       "Bathrooms                       5410\n",
       "Full bathrooms                 12928\n",
       "Total interior livable area     3878\n",
       "Total spaces                    1667\n",
       "Garage spaces                   1667\n",
       "Region                             2\n",
       "Elementary School               8493\n",
       "Elementary School Score         8735\n",
       "Elementary School Distance      8493\n",
       "Middle School                  28277\n",
       "Middle School Score            28279\n",
       "Middle School Distance         28277\n",
       "High School                     7174\n",
       "High School Score               7784\n",
       "High School Distance            7175\n",
       "Flooring                       21927\n",
       "Heating features               12548\n",
       "Cooling features               16633\n",
       "Appliances included            23349\n",
       "Laundry features               19982\n",
       "Parking features                6628\n",
       "Tax assessed value              6323\n",
       "Annual tax amount               7209\n",
       "Last Sold On                   29545\n",
       "Last Sold Price                29545\n",
       "dtype: int64"
      ]
     },
     "execution_count": 9,
     "metadata": {},
     "output_type": "execute_result"
    }
   ],
   "source": [
    "missing_values_count = all_features.isnull().sum()\n",
    "\n",
    "# look at the # of missing points in the first ten columns\n",
    "missing_values_count.loc[missing_values_count>0]"
   ]
  },
  {
   "cell_type": "markdown",
   "id": "czech-advisory",
   "metadata": {
    "papermill": {
     "duration": 0.04239,
     "end_time": "2021-06-11T02:04:18.568864",
     "exception": false,
     "start_time": "2021-06-11T02:04:18.526474",
     "status": "completed"
    },
    "tags": []
   },
   "source": [
    "所以数据集中缺失值占数据总数的......?"
   ]
  },
  {
   "cell_type": "code",
   "execution_count": 10,
   "id": "healthy-mainstream",
   "metadata": {
    "execution": {
     "iopub.execute_input": "2021-06-11T02:04:18.659831Z",
     "iopub.status.busy": "2021-06-11T02:04:18.659285Z",
     "iopub.status.idle": "2021-06-11T02:04:18.662337Z",
     "shell.execute_reply": "2021-06-11T02:04:18.662903Z",
     "shell.execute_reply.started": "2021-06-11T01:55:20.837586Z"
    },
    "papermill": {
     "duration": 0.049595,
     "end_time": "2021-06-11T02:04:18.663063",
     "exception": false,
     "start_time": "2021-06-11T02:04:18.613468",
     "status": "completed"
    },
    "tags": []
   },
   "outputs": [
    {
     "name": "stdout",
     "output_type": "stream",
     "text": [
      "13.693198985363662\n"
     ]
    }
   ],
   "source": [
    "total_cells = np.product(all_features.shape)\n",
    "total_missing = missing_values_count.sum()\n",
    "\n",
    "# percent of data that is missing\n",
    "percent_missing = (total_missing/total_cells) * 100\n",
    "print(percent_missing)"
   ]
  },
  {
   "cell_type": "code",
   "execution_count": 11,
   "id": "frank-gates",
   "metadata": {
    "execution": {
     "iopub.execute_input": "2021-06-11T02:04:18.753239Z",
     "iopub.status.busy": "2021-06-11T02:04:18.752072Z",
     "iopub.status.idle": "2021-06-11T02:04:19.070844Z",
     "shell.execute_reply": "2021-06-11T02:04:19.070372Z",
     "shell.execute_reply.started": "2021-06-11T01:55:20.848141Z"
    },
    "papermill": {
     "duration": 0.364578,
     "end_time": "2021-06-11T02:04:19.070973",
     "exception": false,
     "start_time": "2021-06-11T02:04:18.706395",
     "status": "completed"
    },
    "tags": []
   },
   "outputs": [],
   "source": [
    "all_features = all_features.fillna(method='bfill', axis=0).fillna(0)"
   ]
  },
  {
   "cell_type": "markdown",
   "id": "female-justice",
   "metadata": {
    "papermill": {
     "duration": 0.041818,
     "end_time": "2021-06-11T02:04:19.156481",
     "exception": false,
     "start_time": "2021-06-11T02:04:19.114663",
     "status": "completed"
    },
    "tags": []
   },
   "source": [
    "来验证一下，NA是否都去除了："
   ]
  },
  {
   "cell_type": "code",
   "execution_count": 12,
   "id": "descending-boutique",
   "metadata": {
    "execution": {
     "iopub.execute_input": "2021-06-11T02:04:19.245672Z",
     "iopub.status.busy": "2021-06-11T02:04:19.244889Z",
     "iopub.status.idle": "2021-06-11T02:04:19.361568Z",
     "shell.execute_reply": "2021-06-11T02:04:19.361125Z",
     "shell.execute_reply.started": "2021-06-11T01:55:21.156918Z"
    },
    "papermill": {
     "duration": 0.162885,
     "end_time": "2021-06-11T02:04:19.361678",
     "exception": false,
     "start_time": "2021-06-11T02:04:19.198793",
     "status": "completed"
    },
    "tags": []
   },
   "outputs": [
    {
     "data": {
      "text/plain": [
       "Series([], dtype: int64)"
      ]
     },
     "execution_count": 12,
     "metadata": {},
     "output_type": "execute_result"
    }
   ],
   "source": [
    "missing_values_count = all_features.isnull().sum()\n",
    "\n",
    "# look at the # of missing points in the first ten columns\n",
    "missing_values_count.loc[missing_values_count>0]"
   ]
  },
  {
   "cell_type": "markdown",
   "id": "documentary-potential",
   "metadata": {
    "papermill": {
     "duration": 0.042084,
     "end_time": "2021-06-11T02:04:19.446065",
     "exception": false,
     "start_time": "2021-06-11T02:04:19.403981",
     "status": "completed"
    },
    "tags": []
   },
   "source": [
    "### 处理日期数据"
   ]
  },
  {
   "cell_type": "code",
   "execution_count": 13,
   "id": "frank-suicide",
   "metadata": {
    "execution": {
     "iopub.execute_input": "2021-06-11T02:04:19.536791Z",
     "iopub.status.busy": "2021-06-11T02:04:19.536303Z",
     "iopub.status.idle": "2021-06-11T02:04:19.541280Z",
     "shell.execute_reply": "2021-06-11T02:04:19.541777Z",
     "shell.execute_reply.started": "2021-06-11T01:55:21.296443Z"
    },
    "papermill": {
     "duration": 0.052047,
     "end_time": "2021-06-11T02:04:19.541904",
     "exception": false,
     "start_time": "2021-06-11T02:04:19.489857",
     "status": "completed"
    },
    "tags": []
   },
   "outputs": [
    {
     "data": {
      "text/plain": [
       "Index(['Type', 'Year built', 'Heating', 'Cooling', 'Parking', 'Lot',\n",
       "       'Bedrooms', 'Bathrooms', 'Full bathrooms',\n",
       "       'Total interior livable area', 'Total spaces', 'Garage spaces',\n",
       "       'Region', 'Elementary School', 'Elementary School Score',\n",
       "       'Elementary School Distance', 'Middle School', 'Middle School Score',\n",
       "       'Middle School Distance', 'High School', 'High School Score',\n",
       "       'High School Distance', 'Flooring', 'Heating features',\n",
       "       'Cooling features', 'Appliances included', 'Laundry features',\n",
       "       'Parking features', 'Tax assessed value', 'Annual tax amount',\n",
       "       'Listed On', 'Listed Price', 'Last Sold On', 'Last Sold Price', 'City',\n",
       "       'Zip'],\n",
       "      dtype='object')"
      ]
     },
     "execution_count": 13,
     "metadata": {},
     "output_type": "execute_result"
    }
   ],
   "source": [
    "all_features.columns"
   ]
  },
  {
   "cell_type": "code",
   "execution_count": 14,
   "id": "located-floating",
   "metadata": {
    "execution": {
     "iopub.execute_input": "2021-06-11T02:04:19.683430Z",
     "iopub.status.busy": "2021-06-11T02:04:19.682466Z",
     "iopub.status.idle": "2021-06-11T02:04:19.686569Z",
     "shell.execute_reply": "2021-06-11T02:04:19.687118Z",
     "shell.execute_reply.started": "2021-06-11T01:55:21.307043Z"
    },
    "papermill": {
     "duration": 0.092816,
     "end_time": "2021-06-11T02:04:19.687284",
     "exception": false,
     "start_time": "2021-06-11T02:04:19.594468",
     "status": "completed"
    },
    "tags": []
   },
   "outputs": [
    {
     "name": "stdout",
     "output_type": "stream",
     "text": [
      "0    2019-10-24\n",
      "1    2019-10-16\n",
      "2    2019-08-25\n",
      "3    2019-10-24\n",
      "4    2019-06-07\n",
      "Name: Listed On, dtype: object\n",
      "0    2019-08-30\n",
      "1    2019-08-30\n",
      "2    2016-08-30\n",
      "3    2016-08-30\n",
      "4    2016-06-27\n",
      "Name: Last Sold On, dtype: object\n"
     ]
    }
   ],
   "source": [
    "print(all_features['Listed On'].head())\n",
    "print(all_features['Last Sold On'].head())"
   ]
  },
  {
   "cell_type": "code",
   "execution_count": 15,
   "id": "inappropriate-delight",
   "metadata": {
    "execution": {
     "iopub.execute_input": "2021-06-11T02:04:19.863646Z",
     "iopub.status.busy": "2021-06-11T02:04:19.862840Z",
     "iopub.status.idle": "2021-06-11T02:04:19.892897Z",
     "shell.execute_reply": "2021-06-11T02:04:19.893474Z",
     "shell.execute_reply.started": "2021-06-11T01:55:21.323877Z"
    },
    "papermill": {
     "duration": 0.131389,
     "end_time": "2021-06-11T02:04:19.893641",
     "exception": false,
     "start_time": "2021-06-11T02:04:19.762252",
     "status": "completed"
    },
    "tags": []
   },
   "outputs": [],
   "source": [
    "all_features['Listed On'] = pd.to_datetime(all_features['Listed On'], format=\"%Y-%m-%d\")"
   ]
  },
  {
   "cell_type": "code",
   "execution_count": 16,
   "id": "organizational-flavor",
   "metadata": {
    "execution": {
     "iopub.execute_input": "2021-06-11T02:04:20.046107Z",
     "iopub.status.busy": "2021-06-11T02:04:20.045385Z",
     "iopub.status.idle": "2021-06-11T02:04:20.070577Z",
     "shell.execute_reply": "2021-06-11T02:04:20.071153Z",
     "shell.execute_reply.started": "2021-06-11T01:55:21.353530Z"
    },
    "papermill": {
     "duration": 0.107027,
     "end_time": "2021-06-11T02:04:20.071349",
     "exception": false,
     "start_time": "2021-06-11T02:04:19.964322",
     "status": "completed"
    },
    "tags": []
   },
   "outputs": [],
   "source": [
    "all_features['Last Sold On'] = pd.to_datetime(all_features['Last Sold On'], format=\"%Y-%m-%d\")"
   ]
  },
  {
   "cell_type": "markdown",
   "id": "confident-hacker",
   "metadata": {
    "papermill": {
     "duration": 0.046447,
     "end_time": "2021-06-11T02:04:20.185775",
     "exception": false,
     "start_time": "2021-06-11T02:04:20.139328",
     "status": "completed"
    },
    "tags": []
   },
   "source": [
    "验证一下dtype："
   ]
  },
  {
   "cell_type": "code",
   "execution_count": 17,
   "id": "pressed-incident",
   "metadata": {
    "execution": {
     "iopub.execute_input": "2021-06-11T02:04:20.278379Z",
     "iopub.status.busy": "2021-06-11T02:04:20.277684Z",
     "iopub.status.idle": "2021-06-11T02:04:20.280772Z",
     "shell.execute_reply": "2021-06-11T02:04:20.281184Z",
     "shell.execute_reply.started": "2021-06-11T01:55:21.386423Z"
    },
    "papermill": {
     "duration": 0.052662,
     "end_time": "2021-06-11T02:04:20.281320",
     "exception": false,
     "start_time": "2021-06-11T02:04:20.228658",
     "status": "completed"
    },
    "tags": []
   },
   "outputs": [
    {
     "name": "stdout",
     "output_type": "stream",
     "text": [
      "0   2019-10-24\n",
      "1   2019-10-16\n",
      "2   2019-08-25\n",
      "3   2019-10-24\n",
      "4   2019-06-07\n",
      "Name: Listed On, dtype: datetime64[ns]\n",
      "0   2019-08-30\n",
      "1   2019-08-30\n",
      "2   2016-08-30\n",
      "3   2016-08-30\n",
      "4   2016-06-27\n",
      "Name: Last Sold On, dtype: datetime64[ns]\n"
     ]
    }
   ],
   "source": [
    "print(all_features['Listed On'].head())\n",
    "print(all_features['Last Sold On'].head())"
   ]
  },
  {
   "cell_type": "markdown",
   "id": "clinical-drawing",
   "metadata": {
    "papermill": {
     "duration": 0.042644,
     "end_time": "2021-06-11T02:04:20.367049",
     "exception": false,
     "start_time": "2021-06-11T02:04:20.324405",
     "status": "completed"
    },
    "tags": []
   },
   "source": [
    "### 标准化"
   ]
  },
  {
   "cell_type": "markdown",
   "id": "earned-cyprus",
   "metadata": {
    "papermill": {
     "duration": 0.042907,
     "end_time": "2021-06-11T02:04:20.453272",
     "exception": false,
     "start_time": "2021-06-11T02:04:20.410365",
     "status": "completed"
    },
    "tags": []
   },
   "source": [
    "看一下现在all_features中的数据有哪些类型："
   ]
  },
  {
   "cell_type": "code",
   "execution_count": 18,
   "id": "adapted-miller",
   "metadata": {
    "execution": {
     "iopub.execute_input": "2021-06-11T02:04:20.544726Z",
     "iopub.status.busy": "2021-06-11T02:04:20.544072Z",
     "iopub.status.idle": "2021-06-11T02:04:20.547141Z",
     "shell.execute_reply": "2021-06-11T02:04:20.547559Z",
     "shell.execute_reply.started": "2021-06-11T01:55:21.399347Z"
    },
    "papermill": {
     "duration": 0.051594,
     "end_time": "2021-06-11T02:04:20.547679",
     "exception": false,
     "start_time": "2021-06-11T02:04:20.496085",
     "status": "completed"
    },
    "tags": []
   },
   "outputs": [
    {
     "data": {
      "text/plain": [
       "array([dtype('O'), dtype('float64'), dtype('<M8[ns]'), dtype('int64')],\n",
       "      dtype=object)"
      ]
     },
     "execution_count": 18,
     "metadata": {},
     "output_type": "execute_result"
    }
   ],
   "source": [
    "all_features.dtypes.unique()"
   ]
  },
  {
   "cell_type": "code",
   "execution_count": 19,
   "id": "durable-therapy",
   "metadata": {
    "execution": {
     "iopub.execute_input": "2021-06-11T02:04:20.640879Z",
     "iopub.status.busy": "2021-06-11T02:04:20.639734Z",
     "iopub.status.idle": "2021-06-11T02:04:20.710238Z",
     "shell.execute_reply": "2021-06-11T02:04:20.709766Z",
     "shell.execute_reply.started": "2021-06-11T01:55:21.412313Z"
    },
    "papermill": {
     "duration": 0.119485,
     "end_time": "2021-06-11T02:04:20.710371",
     "exception": false,
     "start_time": "2021-06-11T02:04:20.590886",
     "status": "completed"
    },
    "tags": []
   },
   "outputs": [],
   "source": [
    "numeric_features = all_features.dtypes[all_features.dtypes == 'float64'].index\n",
    "all_features[numeric_features] = all_features[numeric_features].apply(\n",
    "    lambda x: (x - x.mean()) / (x.std()))"
   ]
  },
  {
   "cell_type": "markdown",
   "id": "fourth-saying",
   "metadata": {
    "papermill": {
     "duration": 0.043543,
     "end_time": "2021-06-11T02:04:20.798070",
     "exception": false,
     "start_time": "2021-06-11T02:04:20.754527",
     "status": "completed"
    },
    "tags": []
   },
   "source": [
    "###  独热编码\n",
    "\n",
    "查看一下all_features中类型为object的特征有哪些："
   ]
  },
  {
   "cell_type": "code",
   "execution_count": 20,
   "id": "difficult-breathing",
   "metadata": {
    "execution": {
     "iopub.execute_input": "2021-06-11T02:04:20.890700Z",
     "iopub.status.busy": "2021-06-11T02:04:20.890148Z",
     "iopub.status.idle": "2021-06-11T02:04:20.895787Z",
     "shell.execute_reply": "2021-06-11T02:04:20.895396Z",
     "shell.execute_reply.started": "2021-06-11T01:55:21.491858Z"
    },
    "papermill": {
     "duration": 0.054493,
     "end_time": "2021-06-11T02:04:20.895890",
     "exception": false,
     "start_time": "2021-06-11T02:04:20.841397",
     "status": "completed"
    },
    "tags": []
   },
   "outputs": [
    {
     "data": {
      "text/plain": [
       "Type                   object\n",
       "Heating                object\n",
       "Cooling                object\n",
       "Parking                object\n",
       "Bedrooms               object\n",
       "Region                 object\n",
       "Elementary School      object\n",
       "Middle School          object\n",
       "High School            object\n",
       "Flooring               object\n",
       "Heating features       object\n",
       "Cooling features       object\n",
       "Appliances included    object\n",
       "Laundry features       object\n",
       "Parking features       object\n",
       "City                   object\n",
       "dtype: object"
      ]
     },
     "execution_count": 20,
     "metadata": {},
     "output_type": "execute_result"
    }
   ],
   "source": [
    "all_features.dtypes[all_features.dtypes=='object']"
   ]
  },
  {
   "cell_type": "markdown",
   "id": "miniature-conversion",
   "metadata": {
    "papermill": {
     "duration": 0.043969,
     "end_time": "2021-06-11T02:04:20.984242",
     "exception": false,
     "start_time": "2021-06-11T02:04:20.940273",
     "status": "completed"
    },
    "tags": []
   },
   "source": [
    "为了提高独热编码时的质量，我们看一下这些object类型中是否存在数据不一致的情况："
   ]
  },
  {
   "cell_type": "code",
   "execution_count": 21,
   "id": "ranking-bibliography",
   "metadata": {
    "execution": {
     "iopub.execute_input": "2021-06-11T02:04:21.085197Z",
     "iopub.status.busy": "2021-06-11T02:04:21.084477Z",
     "iopub.status.idle": "2021-06-11T02:04:21.189378Z",
     "shell.execute_reply": "2021-06-11T02:04:21.189791Z",
     "shell.execute_reply.started": "2021-06-11T01:55:21.504871Z"
    },
    "papermill": {
     "duration": 0.161795,
     "end_time": "2021-06-11T02:04:21.189931",
     "exception": false,
     "start_time": "2021-06-11T02:04:21.028136",
     "status": "completed"
    },
    "tags": []
   },
   "outputs": [
    {
     "name": "stdout",
     "output_type": "stream",
     "text": [
      "174\n",
      "2659\n",
      "910\n",
      "9912\n",
      "277\n",
      "1258\n",
      "3567\n",
      "809\n",
      "921\n",
      "1739\n",
      "1762\n",
      "595\n",
      "11290\n",
      "3030\n",
      "9694\n",
      "1122\n"
     ]
    }
   ],
   "source": [
    "print(len(all_features['Type'].unique()))\n",
    "print(len(all_features['Heating'].unique()))\n",
    "print(len(all_features['Cooling'].unique()))\n",
    "print(len(all_features['Parking'].unique()))\n",
    "print(len(all_features['Bedrooms'].unique()))\n",
    "print(len(all_features['Region'].unique()))\n",
    "print(len(all_features['Elementary School'].unique()))\n",
    "print(len(all_features['Middle School'].unique()))\n",
    "print(len(all_features['High School'].unique()))\n",
    "print(len(all_features['Flooring'].unique()))\n",
    "print(len(all_features['Heating features'].unique()))\n",
    "print(len(all_features['Cooling features'].unique()))\n",
    "print(len(all_features['Appliances included'].unique()))\n",
    "print(len(all_features['Laundry features'].unique()))\n",
    "print(len(all_features['Parking features'].unique()))\n",
    "print(len(all_features['City'].unique()))"
   ]
  },
  {
   "cell_type": "markdown",
   "id": "geological-preview",
   "metadata": {
    "papermill": {
     "duration": 0.043885,
     "end_time": "2021-06-11T02:04:21.277833",
     "exception": false,
     "start_time": "2021-06-11T02:04:21.233948",
     "status": "completed"
    },
    "tags": []
   },
   "source": [
    "从上面各个长度可以看出，特征包含的类别数太多，我们来看一下是什么情况："
   ]
  },
  {
   "cell_type": "code",
   "execution_count": 22,
   "id": "worthy-baltimore",
   "metadata": {
    "execution": {
     "iopub.execute_input": "2021-06-11T02:04:21.372113Z",
     "iopub.status.busy": "2021-06-11T02:04:21.371153Z",
     "iopub.status.idle": "2021-06-11T02:04:21.375057Z",
     "shell.execute_reply": "2021-06-11T02:04:21.375432Z",
     "shell.execute_reply.started": "2021-06-11T01:55:21.653642Z"
    },
    "papermill": {
     "duration": 0.053635,
     "end_time": "2021-06-11T02:04:21.375559",
     "exception": false,
     "start_time": "2021-06-11T02:04:21.321924",
     "status": "completed"
    },
    "tags": []
   },
   "outputs": [
    {
     "data": {
      "text/plain": [
       "0        Dishwasher, Dryer, Garbage disposal, Microwave...\n",
       "1                                               Dishwasher\n",
       "2                                               Dishwasher\n",
       "3                                               Dishwasher\n",
       "4                                             Range / Oven\n",
       "                               ...                        \n",
       "31621    Dishwasher, Disposal, Dryer, Microwave, Oven, ...\n",
       "31622    Dishwasher, Electric Oven, Disposal, Gas Water...\n",
       "31623                      Dishwasher, Disposal, Microwave\n",
       "31624                      Dishwasher, Disposal, Microwave\n",
       "31625                                                    0\n",
       "Name: Appliances included, Length: 79065, dtype: object"
      ]
     },
     "execution_count": 22,
     "metadata": {},
     "output_type": "execute_result"
    }
   ],
   "source": [
    "all_features['Appliances included']"
   ]
  },
  {
   "cell_type": "markdown",
   "id": "respected-archives",
   "metadata": {
    "papermill": {
     "duration": 0.045431,
     "end_time": "2021-06-11T02:04:21.466514",
     "exception": false,
     "start_time": "2021-06-11T02:04:21.421083",
     "status": "completed"
    },
    "tags": []
   },
   "source": [
    "除了```Appliances included```以外，其他数量很大的类别也都是用逗号分隔的多类别文本数据。因为现在我的水平有限，不太知道这种数据怎么编码，所以决定把它们都剔除掉："
   ]
  },
  {
   "cell_type": "code",
   "execution_count": 23,
   "id": "distributed-newton",
   "metadata": {
    "execution": {
     "iopub.execute_input": "2021-06-11T02:04:21.562677Z",
     "iopub.status.busy": "2021-06-11T02:04:21.562133Z",
     "iopub.status.idle": "2021-06-11T02:04:21.568148Z",
     "shell.execute_reply": "2021-06-11T02:04:21.567404Z",
     "shell.execute_reply.started": "2021-06-11T01:55:21.668490Z"
    },
    "papermill": {
     "duration": 0.055958,
     "end_time": "2021-06-11T02:04:21.568316",
     "exception": false,
     "start_time": "2021-06-11T02:04:21.512358",
     "status": "completed"
    },
    "tags": []
   },
   "outputs": [
    {
     "name": "stdout",
     "output_type": "stream",
     "text": [
      "['Year built', 'Lot', 'Bathrooms', 'Full bathrooms', 'Total interior livable area', 'Total spaces', 'Garage spaces', 'Elementary School Score', 'Elementary School Distance', 'Middle School Score', 'Middle School Distance', 'High School Score', 'High School Distance', 'Tax assessed value', 'Annual tax amount', 'Listed Price', 'Last Sold Price', 'Type']\n"
     ]
    }
   ],
   "source": [
    "features = list(numeric_features)\n",
    "features.append('Type')   # 加上类别数相对较少的Type\n",
    "print(features)"
   ]
  },
  {
   "cell_type": "code",
   "execution_count": 24,
   "id": "present-first",
   "metadata": {
    "execution": {
     "iopub.execute_input": "2021-06-11T02:04:21.667332Z",
     "iopub.status.busy": "2021-06-11T02:04:21.666808Z",
     "iopub.status.idle": "2021-06-11T02:04:21.670343Z",
     "shell.execute_reply": "2021-06-11T02:04:21.670705Z",
     "shell.execute_reply.started": "2021-06-11T01:55:21.678653Z"
    },
    "papermill": {
     "duration": 0.056125,
     "end_time": "2021-06-11T02:04:21.670827",
     "exception": false,
     "start_time": "2021-06-11T02:04:21.614702",
     "status": "completed"
    },
    "tags": []
   },
   "outputs": [],
   "source": [
    "all_features = all_features[features]"
   ]
  },
  {
   "cell_type": "code",
   "execution_count": 25,
   "id": "heard-chemical",
   "metadata": {
    "execution": {
     "iopub.execute_input": "2021-06-11T02:04:21.768527Z",
     "iopub.status.busy": "2021-06-11T02:04:21.767621Z",
     "iopub.status.idle": "2021-06-11T02:04:21.771526Z",
     "shell.execute_reply": "2021-06-11T02:04:21.771070Z",
     "shell.execute_reply.started": "2021-06-11T01:55:21.693153Z"
    },
    "papermill": {
     "duration": 0.054378,
     "end_time": "2021-06-11T02:04:21.771628",
     "exception": false,
     "start_time": "2021-06-11T02:04:21.717250",
     "status": "completed"
    },
    "tags": []
   },
   "outputs": [
    {
     "data": {
      "text/plain": [
       "(79065, 18)"
      ]
     },
     "execution_count": 25,
     "metadata": {},
     "output_type": "execute_result"
    }
   ],
   "source": [
    "all_features.shape"
   ]
  },
  {
   "cell_type": "markdown",
   "id": "psychological-opportunity",
   "metadata": {
    "papermill": {
     "duration": 0.046203,
     "end_time": "2021-06-11T02:04:21.864510",
     "exception": false,
     "start_time": "2021-06-11T02:04:21.818307",
     "status": "completed"
    },
    "tags": []
   },
   "source": [
    "进行编码："
   ]
  },
  {
   "cell_type": "code",
   "execution_count": 26,
   "id": "continental-logic",
   "metadata": {
    "execution": {
     "iopub.execute_input": "2021-06-11T02:04:21.970688Z",
     "iopub.status.busy": "2021-06-11T02:04:21.969941Z",
     "iopub.status.idle": "2021-06-11T02:04:22.042279Z",
     "shell.execute_reply": "2021-06-11T02:04:22.042691Z",
     "shell.execute_reply.started": "2021-06-11T01:55:21.709406Z"
    },
    "papermill": {
     "duration": 0.131834,
     "end_time": "2021-06-11T02:04:22.042831",
     "exception": false,
     "start_time": "2021-06-11T02:04:21.910997",
     "status": "completed"
    },
    "tags": []
   },
   "outputs": [
    {
     "data": {
      "text/plain": [
       "(79065, 192)"
      ]
     },
     "execution_count": 26,
     "metadata": {},
     "output_type": "execute_result"
    }
   ],
   "source": [
    "all_features = pd.get_dummies(all_features, dummy_na=True)\n",
    "all_features.shape"
   ]
  },
  {
   "cell_type": "markdown",
   "id": "amino-lithuania",
   "metadata": {
    "papermill": {
     "duration": 0.046749,
     "end_time": "2021-06-11T02:04:22.137210",
     "exception": false,
     "start_time": "2021-06-11T02:04:22.090461",
     "status": "completed"
    },
    "tags": []
   },
   "source": [
    "### 转为张量"
   ]
  },
  {
   "cell_type": "code",
   "execution_count": 27,
   "id": "simple-breakdown",
   "metadata": {
    "execution": {
     "iopub.execute_input": "2021-06-11T02:04:22.235566Z",
     "iopub.status.busy": "2021-06-11T02:04:22.234424Z",
     "iopub.status.idle": "2021-06-11T02:04:22.314832Z",
     "shell.execute_reply": "2021-06-11T02:04:22.314377Z",
     "shell.execute_reply.started": "2021-06-11T01:55:21.785896Z"
    },
    "papermill": {
     "duration": 0.130921,
     "end_time": "2021-06-11T02:04:22.314957",
     "exception": false,
     "start_time": "2021-06-11T02:04:22.184036",
     "status": "completed"
    },
    "tags": []
   },
   "outputs": [],
   "source": [
    "n_train = train_data.shape[0]\n",
    "train_features = torch.tensor(all_features[:n_train].values, dtype=torch.float32)\n",
    "test_features = torch.tensor(all_features[n_train:].values, dtype=torch.float32)\n",
    "train_labels = torch.tensor(train_data['Sold Price'].values.reshape(-1,1), dtype=torch.float32)"
   ]
  },
  {
   "cell_type": "markdown",
   "id": "steady-buying",
   "metadata": {
    "papermill": {
     "duration": 0.045249,
     "end_time": "2021-06-11T02:04:22.405798",
     "exception": false,
     "start_time": "2021-06-11T02:04:22.360549",
     "status": "completed"
    },
    "tags": []
   },
   "source": [
    "## 训练"
   ]
  },
  {
   "cell_type": "code",
   "execution_count": 28,
   "id": "featured-issue",
   "metadata": {
    "execution": {
     "iopub.execute_input": "2021-06-11T02:04:22.500266Z",
     "iopub.status.busy": "2021-06-11T02:04:22.499704Z",
     "iopub.status.idle": "2021-06-11T02:04:22.503129Z",
     "shell.execute_reply": "2021-06-11T02:04:22.503520Z",
     "shell.execute_reply.started": "2021-06-11T01:55:21.873400Z"
    },
    "papermill": {
     "duration": 0.052959,
     "end_time": "2021-06-11T02:04:22.503647",
     "exception": false,
     "start_time": "2021-06-11T02:04:22.450688",
     "status": "completed"
    },
    "tags": []
   },
   "outputs": [],
   "source": [
    "loss = nn.MSELoss()\n",
    "in_features = train_features.shape[1]\n",
    "\n",
    "def get_net():\n",
    "    net = nn.Sequential(nn.Linear(in_features,256), nn.ReLU(), nn.Linear(256,1))  \n",
    "    #net = nn.Sequential(nn.Linear(in_features, 1))\n",
    "    return net"
   ]
  },
  {
   "cell_type": "markdown",
   "id": "lesbian-criterion",
   "metadata": {
    "papermill": {
     "duration": 0.046251,
     "end_time": "2021-06-11T02:04:22.596204",
     "exception": false,
     "start_time": "2021-06-11T02:04:22.549953",
     "status": "completed"
    },
    "tags": []
   },
   "source": [
    "### 选取loss函数：\n",
    "\n",
    "因为不同区域的房价绝对数值相差很大，我们更关心相对误差：$\\frac{y - \\hat{y}}{y}$，所以我们定义loss为：\n",
    "\n",
    "$$\\sqrt{\\frac{1}{n}\\sum_{i=1}^n\\left(\\log y_i -\\log \\hat{y}_i\\right)^2}.$$"
   ]
  },
  {
   "cell_type": "code",
   "execution_count": 29,
   "id": "musical-broadway",
   "metadata": {
    "execution": {
     "iopub.execute_input": "2021-06-11T02:04:22.694626Z",
     "iopub.status.busy": "2021-06-11T02:04:22.693263Z",
     "iopub.status.idle": "2021-06-11T02:04:22.695688Z",
     "shell.execute_reply": "2021-06-11T02:04:22.696225Z",
     "shell.execute_reply.started": "2021-06-11T01:55:21.883484Z"
    },
    "papermill": {
     "duration": 0.05381,
     "end_time": "2021-06-11T02:04:22.696355",
     "exception": false,
     "start_time": "2021-06-11T02:04:22.642545",
     "status": "completed"
    },
    "tags": []
   },
   "outputs": [],
   "source": [
    "def log_rmse(net, features, labels):\n",
    "    # 为了在取对数时进一步稳定该值，将小于1的值设置为1\n",
    "    clipped_preds = torch.clamp(net(features), 1, float('inf'))\n",
    "    rmse = torch.sqrt(loss(torch.log(clipped_preds), torch.log(labels)))\n",
    "    return rmse.item()"
   ]
  },
  {
   "cell_type": "markdown",
   "id": "ethical-return",
   "metadata": {
    "papermill": {
     "duration": 0.04565,
     "end_time": "2021-06-11T02:04:22.788931",
     "exception": false,
     "start_time": "2021-06-11T02:04:22.743281",
     "status": "completed"
    },
    "tags": []
   },
   "source": [
    "### 训练函数"
   ]
  },
  {
   "cell_type": "code",
   "execution_count": 30,
   "id": "based-shock",
   "metadata": {
    "execution": {
     "iopub.execute_input": "2021-06-11T02:04:22.885476Z",
     "iopub.status.busy": "2021-06-11T02:04:22.884675Z",
     "iopub.status.idle": "2021-06-11T02:04:22.887149Z",
     "shell.execute_reply": "2021-06-11T02:04:22.886757Z",
     "shell.execute_reply.started": "2021-06-11T01:55:21.895724Z"
    },
    "papermill": {
     "duration": 0.053461,
     "end_time": "2021-06-11T02:04:22.887267",
     "exception": false,
     "start_time": "2021-06-11T02:04:22.833806",
     "status": "completed"
    },
    "tags": []
   },
   "outputs": [],
   "source": [
    "def train(net, train_features, train_labels, test_features, test_labels,\n",
    "          num_epochs, learning_rate, weight_decay, batch_size):\n",
    "    train_ls, test_ls = [], []   # train_loss和test_loss\n",
    "    train_iter = d2l.load_array((train_features, train_labels), batch_size)\n",
    "    # 这里使用的是Adam优化算法，对初始学习率没有那么敏感\n",
    "    optimizer = torch.optim.Adam(net.parameters(), lr=learning_rate,\n",
    "                                 weight_decay=weight_decay)\n",
    "    for epoch in range(num_epochs):\n",
    "        for X, y in train_iter:\n",
    "            optimizer.zero_grad()\n",
    "            l = loss(net(X), y)\n",
    "            l.backward()\n",
    "            optimizer.step()\n",
    "        train_ls.append(log_rmse(net, train_features, train_labels))\n",
    "        if test_labels is not None:\n",
    "            test_ls.append(log_rmse(net, test_features, test_labels))\n",
    "    return train_ls, test_ls"
   ]
  },
  {
   "cell_type": "markdown",
   "id": "superb-delight",
   "metadata": {
    "papermill": {
     "duration": 0.046313,
     "end_time": "2021-06-11T02:04:22.979272",
     "exception": false,
     "start_time": "2021-06-11T02:04:22.932959",
     "status": "completed"
    },
    "tags": []
   },
   "source": [
    "### k折交叉验证"
   ]
  },
  {
   "cell_type": "code",
   "execution_count": 31,
   "id": "plain-ancient",
   "metadata": {
    "execution": {
     "iopub.execute_input": "2021-06-11T02:04:23.078684Z",
     "iopub.status.busy": "2021-06-11T02:04:23.077773Z",
     "iopub.status.idle": "2021-06-11T02:04:23.080072Z",
     "shell.execute_reply": "2021-06-11T02:04:23.080516Z",
     "shell.execute_reply.started": "2021-06-11T01:55:21.912327Z"
    },
    "papermill": {
     "duration": 0.055619,
     "end_time": "2021-06-11T02:04:23.080638",
     "exception": false,
     "start_time": "2021-06-11T02:04:23.025019",
     "status": "completed"
    },
    "tags": []
   },
   "outputs": [],
   "source": [
    "def get_k_fold_data(k, i, X, y):\n",
    "    assert k > 1\n",
    "    fold_size = X.shape[0] // k\n",
    "    X_train, y_train = None, None\n",
    "    for j in range(k):\n",
    "        idx = slice(j * fold_size, (j + 1) * fold_size)\n",
    "        X_part, y_part = X[idx, :], y[idx]\n",
    "        if j == i:\n",
    "            X_valid, y_valid = X_part, y_part\n",
    "        elif X_train is None:\n",
    "            X_train, y_train = X_part, y_part\n",
    "        else:\n",
    "            X_train = torch.cat([X_train, X_part], 0)\n",
    "            y_train = torch.cat([y_train, y_part], 0)\n",
    "    return X_train, y_train, X_valid, y_valid"
   ]
  },
  {
   "cell_type": "code",
   "execution_count": 32,
   "id": "amateur-billy",
   "metadata": {
    "execution": {
     "iopub.execute_input": "2021-06-11T02:04:23.182124Z",
     "iopub.status.busy": "2021-06-11T02:04:23.181259Z",
     "iopub.status.idle": "2021-06-11T02:04:23.184040Z",
     "shell.execute_reply": "2021-06-11T02:04:23.183457Z",
     "shell.execute_reply.started": "2021-06-11T01:55:21.925136Z"
    },
    "papermill": {
     "duration": 0.056294,
     "end_time": "2021-06-11T02:04:23.184152",
     "exception": false,
     "start_time": "2021-06-11T02:04:23.127858",
     "status": "completed"
    },
    "tags": []
   },
   "outputs": [],
   "source": [
    "# 返回训练和验证误差的平均值\n",
    "def k_fold(k, X_train, y_train, num_epochs, learning_rate, weight_decay,\n",
    "           batch_size):\n",
    "    train_l_sum, valid_l_sum = 0, 0\n",
    "    for i in range(k):\n",
    "        data = get_k_fold_data(k, i, X_train, y_train)\n",
    "        net = get_net()\n",
    "        train_ls, valid_ls = train(net, *data, num_epochs, learning_rate,\n",
    "                                   weight_decay, batch_size)\n",
    "        train_l_sum += train_ls[-1]\n",
    "        valid_l_sum += valid_ls[-1]\n",
    "        if i == 0:\n",
    "            d2l.plot(list(range(1, num_epochs + 1)), [train_ls, valid_ls],\n",
    "                     xlabel='epoch', ylabel='rmse', xlim=[1, num_epochs],\n",
    "                     legend=['train', 'valid'], yscale='log')\n",
    "        print(f'fold {i + 1}, train log rmse {float(train_ls[-1]):f}, '\n",
    "              f'valid log rmse {float(valid_ls[-1]):f}')\n",
    "    return train_l_sum / k, valid_l_sum / k"
   ]
  },
  {
   "cell_type": "markdown",
   "id": "hairy-tomato",
   "metadata": {
    "papermill": {
     "duration": 0.046092,
     "end_time": "2021-06-11T02:04:23.276658",
     "exception": false,
     "start_time": "2021-06-11T02:04:23.230566",
     "status": "completed"
    },
    "tags": []
   },
   "source": [
    "### 模型选择"
   ]
  },
  {
   "cell_type": "code",
   "execution_count": 33,
   "id": "previous-science",
   "metadata": {
    "execution": {
     "iopub.execute_input": "2021-06-11T02:04:23.376975Z",
     "iopub.status.busy": "2021-06-11T02:04:23.376360Z",
     "iopub.status.idle": "2021-06-11T02:14:38.477755Z",
     "shell.execute_reply": "2021-06-11T02:14:38.478164Z",
     "shell.execute_reply.started": "2021-06-11T02:03:10.312337Z"
    },
    "papermill": {
     "duration": 615.155052,
     "end_time": "2021-06-11T02:14:38.478328",
     "exception": false,
     "start_time": "2021-06-11T02:04:23.323276",
     "status": "completed"
    },
    "tags": []
   },
   "outputs": [
    {
     "name": "stdout",
     "output_type": "stream",
     "text": [
      "fold 1, train log rmse 0.467627, valid log rmse 0.438364\n",
      "fold 2, train log rmse 0.460689, valid log rmse 0.443255\n",
      "fold 3, train log rmse 0.463760, valid log rmse 0.449689\n",
      "fold 4, train log rmse 0.296666, valid log rmse 0.312078\n",
      "fold 5, train log rmse 0.450245, valid log rmse 0.541860\n",
      "5-折验证: 平均训练log rmse: 0.427798, 平均验证log rmse: 0.437049\n"
     ]
    },
    {
     "data": {
      "image/svg+xml": [
       "<?xml version=\"1.0\" encoding=\"utf-8\" standalone=\"no\"?>\n",
       "<!DOCTYPE svg PUBLIC \"-//W3C//DTD SVG 1.1//EN\"\n",
       "  \"http://www.w3.org/Graphics/SVG/1.1/DTD/svg11.dtd\">\n",
       "<svg height=\"180.65625pt\" version=\"1.1\" viewBox=\"0 0 280.421875 180.65625\" width=\"280.421875pt\" xmlns=\"http://www.w3.org/2000/svg\" xmlns:xlink=\"http://www.w3.org/1999/xlink\">\n",
       " <metadata>\n",
       "  <rdf:RDF xmlns:cc=\"http://creativecommons.org/ns#\" xmlns:dc=\"http://purl.org/dc/elements/1.1/\" xmlns:rdf=\"http://www.w3.org/1999/02/22-rdf-syntax-ns#\">\n",
       "   <cc:Work>\n",
       "    <dc:type rdf:resource=\"http://purl.org/dc/dcmitype/StillImage\"/>\n",
       "    <dc:date>2021-06-11T02:14:38.418265</dc:date>\n",
       "    <dc:format>image/svg+xml</dc:format>\n",
       "    <dc:creator>\n",
       "     <cc:Agent>\n",
       "      <dc:title>Matplotlib v3.4.1, https://matplotlib.org/</dc:title>\n",
       "     </cc:Agent>\n",
       "    </dc:creator>\n",
       "   </cc:Work>\n",
       "  </rdf:RDF>\n",
       " </metadata>\n",
       " <defs>\n",
       "  <style type=\"text/css\">*{stroke-linecap:butt;stroke-linejoin:round;}</style>\n",
       " </defs>\n",
       " <g id=\"figure_1\">\n",
       "  <g id=\"patch_1\">\n",
       "   <path d=\"M 0 180.65625 \n",
       "L 280.421875 180.65625 \n",
       "L 280.421875 0 \n",
       "L 0 0 \n",
       "z\n",
       "\" style=\"fill:none;\"/>\n",
       "  </g>\n",
       "  <g id=\"axes_1\">\n",
       "   <g id=\"patch_2\">\n",
       "    <path d=\"M 68.378125 143.1 \n",
       "L 263.678125 143.1 \n",
       "L 263.678125 7.2 \n",
       "L 68.378125 7.2 \n",
       "z\n",
       "\" style=\"fill:#ffffff;\"/>\n",
       "   </g>\n",
       "   <g id=\"matplotlib.axis_1\">\n",
       "    <g id=\"xtick_1\">\n",
       "     <g id=\"line2d_1\">\n",
       "      <path clip-path=\"url(#pcf69405c5a)\" d=\"M 105.859943 143.1 \n",
       "L 105.859943 7.2 \n",
       "\" style=\"fill:none;stroke:#b0b0b0;stroke-linecap:square;stroke-width:0.8;\"/>\n",
       "     </g>\n",
       "     <g id=\"line2d_2\">\n",
       "      <defs>\n",
       "       <path d=\"M 0 0 \n",
       "L 0 3.5 \n",
       "\" id=\"m73b1701433\" style=\"stroke:#000000;stroke-width:0.8;\"/>\n",
       "      </defs>\n",
       "      <g>\n",
       "       <use style=\"stroke:#000000;stroke-width:0.8;\" x=\"105.859943\" xlink:href=\"#m73b1701433\" y=\"143.1\"/>\n",
       "      </g>\n",
       "     </g>\n",
       "     <g id=\"text_1\">\n",
       "      <!-- 20 -->\n",
       "      <g transform=\"translate(99.497443 157.698438)scale(0.1 -0.1)\">\n",
       "       <defs>\n",
       "        <path d=\"M 1228 531 \n",
       "L 3431 531 \n",
       "L 3431 0 \n",
       "L 469 0 \n",
       "L 469 531 \n",
       "Q 828 903 1448 1529 \n",
       "Q 2069 2156 2228 2338 \n",
       "Q 2531 2678 2651 2914 \n",
       "Q 2772 3150 2772 3378 \n",
       "Q 2772 3750 2511 3984 \n",
       "Q 2250 4219 1831 4219 \n",
       "Q 1534 4219 1204 4116 \n",
       "Q 875 4013 500 3803 \n",
       "L 500 4441 \n",
       "Q 881 4594 1212 4672 \n",
       "Q 1544 4750 1819 4750 \n",
       "Q 2544 4750 2975 4387 \n",
       "Q 3406 4025 3406 3419 \n",
       "Q 3406 3131 3298 2873 \n",
       "Q 3191 2616 2906 2266 \n",
       "Q 2828 2175 2409 1742 \n",
       "Q 1991 1309 1228 531 \n",
       "z\n",
       "\" id=\"DejaVuSans-32\" transform=\"scale(0.015625)\"/>\n",
       "        <path d=\"M 2034 4250 \n",
       "Q 1547 4250 1301 3770 \n",
       "Q 1056 3291 1056 2328 \n",
       "Q 1056 1369 1301 889 \n",
       "Q 1547 409 2034 409 \n",
       "Q 2525 409 2770 889 \n",
       "Q 3016 1369 3016 2328 \n",
       "Q 3016 3291 2770 3770 \n",
       "Q 2525 4250 2034 4250 \n",
       "z\n",
       "M 2034 4750 \n",
       "Q 2819 4750 3233 4129 \n",
       "Q 3647 3509 3647 2328 \n",
       "Q 3647 1150 3233 529 \n",
       "Q 2819 -91 2034 -91 \n",
       "Q 1250 -91 836 529 \n",
       "Q 422 1150 422 2328 \n",
       "Q 422 3509 836 4129 \n",
       "Q 1250 4750 2034 4750 \n",
       "z\n",
       "\" id=\"DejaVuSans-30\" transform=\"scale(0.015625)\"/>\n",
       "       </defs>\n",
       "       <use xlink:href=\"#DejaVuSans-32\"/>\n",
       "       <use x=\"63.623047\" xlink:href=\"#DejaVuSans-30\"/>\n",
       "      </g>\n",
       "     </g>\n",
       "    </g>\n",
       "    <g id=\"xtick_2\">\n",
       "     <g id=\"line2d_3\">\n",
       "      <path clip-path=\"url(#pcf69405c5a)\" d=\"M 145.314489 143.1 \n",
       "L 145.314489 7.2 \n",
       "\" style=\"fill:none;stroke:#b0b0b0;stroke-linecap:square;stroke-width:0.8;\"/>\n",
       "     </g>\n",
       "     <g id=\"line2d_4\">\n",
       "      <g>\n",
       "       <use style=\"stroke:#000000;stroke-width:0.8;\" x=\"145.314489\" xlink:href=\"#m73b1701433\" y=\"143.1\"/>\n",
       "      </g>\n",
       "     </g>\n",
       "     <g id=\"text_2\">\n",
       "      <!-- 40 -->\n",
       "      <g transform=\"translate(138.951989 157.698438)scale(0.1 -0.1)\">\n",
       "       <defs>\n",
       "        <path d=\"M 2419 4116 \n",
       "L 825 1625 \n",
       "L 2419 1625 \n",
       "L 2419 4116 \n",
       "z\n",
       "M 2253 4666 \n",
       "L 3047 4666 \n",
       "L 3047 1625 \n",
       "L 3713 1625 \n",
       "L 3713 1100 \n",
       "L 3047 1100 \n",
       "L 3047 0 \n",
       "L 2419 0 \n",
       "L 2419 1100 \n",
       "L 313 1100 \n",
       "L 313 1709 \n",
       "L 2253 4666 \n",
       "z\n",
       "\" id=\"DejaVuSans-34\" transform=\"scale(0.015625)\"/>\n",
       "       </defs>\n",
       "       <use xlink:href=\"#DejaVuSans-34\"/>\n",
       "       <use x=\"63.623047\" xlink:href=\"#DejaVuSans-30\"/>\n",
       "      </g>\n",
       "     </g>\n",
       "    </g>\n",
       "    <g id=\"xtick_3\">\n",
       "     <g id=\"line2d_5\">\n",
       "      <path clip-path=\"url(#pcf69405c5a)\" d=\"M 184.769034 143.1 \n",
       "L 184.769034 7.2 \n",
       "\" style=\"fill:none;stroke:#b0b0b0;stroke-linecap:square;stroke-width:0.8;\"/>\n",
       "     </g>\n",
       "     <g id=\"line2d_6\">\n",
       "      <g>\n",
       "       <use style=\"stroke:#000000;stroke-width:0.8;\" x=\"184.769034\" xlink:href=\"#m73b1701433\" y=\"143.1\"/>\n",
       "      </g>\n",
       "     </g>\n",
       "     <g id=\"text_3\">\n",
       "      <!-- 60 -->\n",
       "      <g transform=\"translate(178.406534 157.698438)scale(0.1 -0.1)\">\n",
       "       <defs>\n",
       "        <path d=\"M 2113 2584 \n",
       "Q 1688 2584 1439 2293 \n",
       "Q 1191 2003 1191 1497 \n",
       "Q 1191 994 1439 701 \n",
       "Q 1688 409 2113 409 \n",
       "Q 2538 409 2786 701 \n",
       "Q 3034 994 3034 1497 \n",
       "Q 3034 2003 2786 2293 \n",
       "Q 2538 2584 2113 2584 \n",
       "z\n",
       "M 3366 4563 \n",
       "L 3366 3988 \n",
       "Q 3128 4100 2886 4159 \n",
       "Q 2644 4219 2406 4219 \n",
       "Q 1781 4219 1451 3797 \n",
       "Q 1122 3375 1075 2522 \n",
       "Q 1259 2794 1537 2939 \n",
       "Q 1816 3084 2150 3084 \n",
       "Q 2853 3084 3261 2657 \n",
       "Q 3669 2231 3669 1497 \n",
       "Q 3669 778 3244 343 \n",
       "Q 2819 -91 2113 -91 \n",
       "Q 1303 -91 875 529 \n",
       "Q 447 1150 447 2328 \n",
       "Q 447 3434 972 4092 \n",
       "Q 1497 4750 2381 4750 \n",
       "Q 2619 4750 2861 4703 \n",
       "Q 3103 4656 3366 4563 \n",
       "z\n",
       "\" id=\"DejaVuSans-36\" transform=\"scale(0.015625)\"/>\n",
       "       </defs>\n",
       "       <use xlink:href=\"#DejaVuSans-36\"/>\n",
       "       <use x=\"63.623047\" xlink:href=\"#DejaVuSans-30\"/>\n",
       "      </g>\n",
       "     </g>\n",
       "    </g>\n",
       "    <g id=\"xtick_4\">\n",
       "     <g id=\"line2d_7\">\n",
       "      <path clip-path=\"url(#pcf69405c5a)\" d=\"M 224.22358 143.1 \n",
       "L 224.22358 7.2 \n",
       "\" style=\"fill:none;stroke:#b0b0b0;stroke-linecap:square;stroke-width:0.8;\"/>\n",
       "     </g>\n",
       "     <g id=\"line2d_8\">\n",
       "      <g>\n",
       "       <use style=\"stroke:#000000;stroke-width:0.8;\" x=\"224.22358\" xlink:href=\"#m73b1701433\" y=\"143.1\"/>\n",
       "      </g>\n",
       "     </g>\n",
       "     <g id=\"text_4\">\n",
       "      <!-- 80 -->\n",
       "      <g transform=\"translate(217.86108 157.698438)scale(0.1 -0.1)\">\n",
       "       <defs>\n",
       "        <path d=\"M 2034 2216 \n",
       "Q 1584 2216 1326 1975 \n",
       "Q 1069 1734 1069 1313 \n",
       "Q 1069 891 1326 650 \n",
       "Q 1584 409 2034 409 \n",
       "Q 2484 409 2743 651 \n",
       "Q 3003 894 3003 1313 \n",
       "Q 3003 1734 2745 1975 \n",
       "Q 2488 2216 2034 2216 \n",
       "z\n",
       "M 1403 2484 \n",
       "Q 997 2584 770 2862 \n",
       "Q 544 3141 544 3541 \n",
       "Q 544 4100 942 4425 \n",
       "Q 1341 4750 2034 4750 \n",
       "Q 2731 4750 3128 4425 \n",
       "Q 3525 4100 3525 3541 \n",
       "Q 3525 3141 3298 2862 \n",
       "Q 3072 2584 2669 2484 \n",
       "Q 3125 2378 3379 2068 \n",
       "Q 3634 1759 3634 1313 \n",
       "Q 3634 634 3220 271 \n",
       "Q 2806 -91 2034 -91 \n",
       "Q 1263 -91 848 271 \n",
       "Q 434 634 434 1313 \n",
       "Q 434 1759 690 2068 \n",
       "Q 947 2378 1403 2484 \n",
       "z\n",
       "M 1172 3481 \n",
       "Q 1172 3119 1398 2916 \n",
       "Q 1625 2713 2034 2713 \n",
       "Q 2441 2713 2670 2916 \n",
       "Q 2900 3119 2900 3481 \n",
       "Q 2900 3844 2670 4047 \n",
       "Q 2441 4250 2034 4250 \n",
       "Q 1625 4250 1398 4047 \n",
       "Q 1172 3844 1172 3481 \n",
       "z\n",
       "\" id=\"DejaVuSans-38\" transform=\"scale(0.015625)\"/>\n",
       "       </defs>\n",
       "       <use xlink:href=\"#DejaVuSans-38\"/>\n",
       "       <use x=\"63.623047\" xlink:href=\"#DejaVuSans-30\"/>\n",
       "      </g>\n",
       "     </g>\n",
       "    </g>\n",
       "    <g id=\"xtick_5\">\n",
       "     <g id=\"line2d_9\">\n",
       "      <path clip-path=\"url(#pcf69405c5a)\" d=\"M 263.678125 143.1 \n",
       "L 263.678125 7.2 \n",
       "\" style=\"fill:none;stroke:#b0b0b0;stroke-linecap:square;stroke-width:0.8;\"/>\n",
       "     </g>\n",
       "     <g id=\"line2d_10\">\n",
       "      <g>\n",
       "       <use style=\"stroke:#000000;stroke-width:0.8;\" x=\"263.678125\" xlink:href=\"#m73b1701433\" y=\"143.1\"/>\n",
       "      </g>\n",
       "     </g>\n",
       "     <g id=\"text_5\">\n",
       "      <!-- 100 -->\n",
       "      <g transform=\"translate(254.134375 157.698438)scale(0.1 -0.1)\">\n",
       "       <defs>\n",
       "        <path d=\"M 794 531 \n",
       "L 1825 531 \n",
       "L 1825 4091 \n",
       "L 703 3866 \n",
       "L 703 4441 \n",
       "L 1819 4666 \n",
       "L 2450 4666 \n",
       "L 2450 531 \n",
       "L 3481 531 \n",
       "L 3481 0 \n",
       "L 794 0 \n",
       "L 794 531 \n",
       "z\n",
       "\" id=\"DejaVuSans-31\" transform=\"scale(0.015625)\"/>\n",
       "       </defs>\n",
       "       <use xlink:href=\"#DejaVuSans-31\"/>\n",
       "       <use x=\"63.623047\" xlink:href=\"#DejaVuSans-30\"/>\n",
       "       <use x=\"127.246094\" xlink:href=\"#DejaVuSans-30\"/>\n",
       "      </g>\n",
       "     </g>\n",
       "    </g>\n",
       "    <g id=\"text_6\">\n",
       "     <!-- epoch -->\n",
       "     <g transform=\"translate(150.8 171.376563)scale(0.1 -0.1)\">\n",
       "      <defs>\n",
       "       <path d=\"M 3597 1894 \n",
       "L 3597 1613 \n",
       "L 953 1613 \n",
       "Q 991 1019 1311 708 \n",
       "Q 1631 397 2203 397 \n",
       "Q 2534 397 2845 478 \n",
       "Q 3156 559 3463 722 \n",
       "L 3463 178 \n",
       "Q 3153 47 2828 -22 \n",
       "Q 2503 -91 2169 -91 \n",
       "Q 1331 -91 842 396 \n",
       "Q 353 884 353 1716 \n",
       "Q 353 2575 817 3079 \n",
       "Q 1281 3584 2069 3584 \n",
       "Q 2775 3584 3186 3129 \n",
       "Q 3597 2675 3597 1894 \n",
       "z\n",
       "M 3022 2063 \n",
       "Q 3016 2534 2758 2815 \n",
       "Q 2500 3097 2075 3097 \n",
       "Q 1594 3097 1305 2825 \n",
       "Q 1016 2553 972 2059 \n",
       "L 3022 2063 \n",
       "z\n",
       "\" id=\"DejaVuSans-65\" transform=\"scale(0.015625)\"/>\n",
       "       <path d=\"M 1159 525 \n",
       "L 1159 -1331 \n",
       "L 581 -1331 \n",
       "L 581 3500 \n",
       "L 1159 3500 \n",
       "L 1159 2969 \n",
       "Q 1341 3281 1617 3432 \n",
       "Q 1894 3584 2278 3584 \n",
       "Q 2916 3584 3314 3078 \n",
       "Q 3713 2572 3713 1747 \n",
       "Q 3713 922 3314 415 \n",
       "Q 2916 -91 2278 -91 \n",
       "Q 1894 -91 1617 61 \n",
       "Q 1341 213 1159 525 \n",
       "z\n",
       "M 3116 1747 \n",
       "Q 3116 2381 2855 2742 \n",
       "Q 2594 3103 2138 3103 \n",
       "Q 1681 3103 1420 2742 \n",
       "Q 1159 2381 1159 1747 \n",
       "Q 1159 1113 1420 752 \n",
       "Q 1681 391 2138 391 \n",
       "Q 2594 391 2855 752 \n",
       "Q 3116 1113 3116 1747 \n",
       "z\n",
       "\" id=\"DejaVuSans-70\" transform=\"scale(0.015625)\"/>\n",
       "       <path d=\"M 1959 3097 \n",
       "Q 1497 3097 1228 2736 \n",
       "Q 959 2375 959 1747 \n",
       "Q 959 1119 1226 758 \n",
       "Q 1494 397 1959 397 \n",
       "Q 2419 397 2687 759 \n",
       "Q 2956 1122 2956 1747 \n",
       "Q 2956 2369 2687 2733 \n",
       "Q 2419 3097 1959 3097 \n",
       "z\n",
       "M 1959 3584 \n",
       "Q 2709 3584 3137 3096 \n",
       "Q 3566 2609 3566 1747 \n",
       "Q 3566 888 3137 398 \n",
       "Q 2709 -91 1959 -91 \n",
       "Q 1206 -91 779 398 \n",
       "Q 353 888 353 1747 \n",
       "Q 353 2609 779 3096 \n",
       "Q 1206 3584 1959 3584 \n",
       "z\n",
       "\" id=\"DejaVuSans-6f\" transform=\"scale(0.015625)\"/>\n",
       "       <path d=\"M 3122 3366 \n",
       "L 3122 2828 \n",
       "Q 2878 2963 2633 3030 \n",
       "Q 2388 3097 2138 3097 \n",
       "Q 1578 3097 1268 2742 \n",
       "Q 959 2388 959 1747 \n",
       "Q 959 1106 1268 751 \n",
       "Q 1578 397 2138 397 \n",
       "Q 2388 397 2633 464 \n",
       "Q 2878 531 3122 666 \n",
       "L 3122 134 \n",
       "Q 2881 22 2623 -34 \n",
       "Q 2366 -91 2075 -91 \n",
       "Q 1284 -91 818 406 \n",
       "Q 353 903 353 1747 \n",
       "Q 353 2603 823 3093 \n",
       "Q 1294 3584 2113 3584 \n",
       "Q 2378 3584 2631 3529 \n",
       "Q 2884 3475 3122 3366 \n",
       "z\n",
       "\" id=\"DejaVuSans-63\" transform=\"scale(0.015625)\"/>\n",
       "       <path d=\"M 3513 2113 \n",
       "L 3513 0 \n",
       "L 2938 0 \n",
       "L 2938 2094 \n",
       "Q 2938 2591 2744 2837 \n",
       "Q 2550 3084 2163 3084 \n",
       "Q 1697 3084 1428 2787 \n",
       "Q 1159 2491 1159 1978 \n",
       "L 1159 0 \n",
       "L 581 0 \n",
       "L 581 4863 \n",
       "L 1159 4863 \n",
       "L 1159 2956 \n",
       "Q 1366 3272 1645 3428 \n",
       "Q 1925 3584 2291 3584 \n",
       "Q 2894 3584 3203 3211 \n",
       "Q 3513 2838 3513 2113 \n",
       "z\n",
       "\" id=\"DejaVuSans-68\" transform=\"scale(0.015625)\"/>\n",
       "      </defs>\n",
       "      <use xlink:href=\"#DejaVuSans-65\"/>\n",
       "      <use x=\"61.523438\" xlink:href=\"#DejaVuSans-70\"/>\n",
       "      <use x=\"125\" xlink:href=\"#DejaVuSans-6f\"/>\n",
       "      <use x=\"186.181641\" xlink:href=\"#DejaVuSans-63\"/>\n",
       "      <use x=\"241.162109\" xlink:href=\"#DejaVuSans-68\"/>\n",
       "     </g>\n",
       "    </g>\n",
       "   </g>\n",
       "   <g id=\"matplotlib.axis_2\">\n",
       "    <g id=\"ytick_1\">\n",
       "     <g id=\"line2d_11\">\n",
       "      <path clip-path=\"url(#pcf69405c5a)\" d=\"M 68.378125 53.865244 \n",
       "L 263.678125 53.865244 \n",
       "\" style=\"fill:none;stroke:#b0b0b0;stroke-linecap:square;stroke-width:0.8;\"/>\n",
       "     </g>\n",
       "     <g id=\"line2d_12\">\n",
       "      <defs>\n",
       "       <path d=\"M 0 0 \n",
       "L -3.5 0 \n",
       "\" id=\"me74ca624fe\" style=\"stroke:#000000;stroke-width:0.8;\"/>\n",
       "      </defs>\n",
       "      <g>\n",
       "       <use style=\"stroke:#000000;stroke-width:0.8;\" x=\"68.378125\" xlink:href=\"#me74ca624fe\" y=\"53.865244\"/>\n",
       "      </g>\n",
       "     </g>\n",
       "     <g id=\"text_7\">\n",
       "      <!-- $\\mathdefault{10^{0}}$ -->\n",
       "      <g transform=\"translate(43.778125 57.664462)scale(0.1 -0.1)\">\n",
       "       <use transform=\"translate(0 0.765625)\" xlink:href=\"#DejaVuSans-31\"/>\n",
       "       <use transform=\"translate(63.623047 0.765625)\" xlink:href=\"#DejaVuSans-30\"/>\n",
       "       <use transform=\"translate(128.203125 39.046875)scale(0.7)\" xlink:href=\"#DejaVuSans-30\"/>\n",
       "      </g>\n",
       "     </g>\n",
       "    </g>\n",
       "    <g id=\"ytick_2\">\n",
       "     <g id=\"line2d_13\">\n",
       "      <defs>\n",
       "       <path d=\"M 0 0 \n",
       "L -2 0 \n",
       "\" id=\"m0e033f1f28\" style=\"stroke:#000000;stroke-width:0.6;\"/>\n",
       "      </defs>\n",
       "      <g>\n",
       "       <use style=\"stroke:#000000;stroke-width:0.6;\" x=\"68.378125\" xlink:href=\"#m0e033f1f28\" y=\"122.342454\"/>\n",
       "      </g>\n",
       "     </g>\n",
       "    </g>\n",
       "    <g id=\"ytick_3\">\n",
       "     <g id=\"line2d_14\">\n",
       "      <g>\n",
       "       <use style=\"stroke:#000000;stroke-width:0.6;\" x=\"68.378125\" xlink:href=\"#m0e033f1f28\" y=\"104.330591\"/>\n",
       "      </g>\n",
       "     </g>\n",
       "     <g id=\"text_8\">\n",
       "      <!-- $\\mathdefault{6\\times10^{-1}}$ -->\n",
       "      <g transform=\"translate(20.878125 108.12981)scale(0.1 -0.1)\">\n",
       "       <defs>\n",
       "        <path d=\"M 4488 3438 \n",
       "L 3059 2003 \n",
       "L 4488 575 \n",
       "L 4116 197 \n",
       "L 2681 1631 \n",
       "L 1247 197 \n",
       "L 878 575 \n",
       "L 2303 2003 \n",
       "L 878 3438 \n",
       "L 1247 3816 \n",
       "L 2681 2381 \n",
       "L 4116 3816 \n",
       "L 4488 3438 \n",
       "z\n",
       "\" id=\"DejaVuSans-d7\" transform=\"scale(0.015625)\"/>\n",
       "        <path d=\"M 678 2272 \n",
       "L 4684 2272 \n",
       "L 4684 1741 \n",
       "L 678 1741 \n",
       "L 678 2272 \n",
       "z\n",
       "\" id=\"DejaVuSans-2212\" transform=\"scale(0.015625)\"/>\n",
       "       </defs>\n",
       "       <use transform=\"translate(0 0.684375)\" xlink:href=\"#DejaVuSans-36\"/>\n",
       "       <use transform=\"translate(83.105469 0.684375)\" xlink:href=\"#DejaVuSans-d7\"/>\n",
       "       <use transform=\"translate(186.376953 0.684375)\" xlink:href=\"#DejaVuSans-31\"/>\n",
       "       <use transform=\"translate(250 0.684375)\" xlink:href=\"#DejaVuSans-30\"/>\n",
       "       <use transform=\"translate(314.580078 38.965625)scale(0.7)\" xlink:href=\"#DejaVuSans-2212\"/>\n",
       "       <use transform=\"translate(373.232422 38.965625)scale(0.7)\" xlink:href=\"#DejaVuSans-31\"/>\n",
       "      </g>\n",
       "     </g>\n",
       "    </g>\n",
       "    <g id=\"ytick_4\">\n",
       "     <g id=\"line2d_15\">\n",
       "      <g>\n",
       "       <use style=\"stroke:#000000;stroke-width:0.6;\" x=\"68.378125\" xlink:href=\"#m0e033f1f28\" y=\"89.101779\"/>\n",
       "      </g>\n",
       "     </g>\n",
       "    </g>\n",
       "    <g id=\"ytick_5\">\n",
       "     <g id=\"line2d_16\">\n",
       "      <g>\n",
       "       <use style=\"stroke:#000000;stroke-width:0.6;\" x=\"68.378125\" xlink:href=\"#m0e033f1f28\" y=\"75.909981\"/>\n",
       "      </g>\n",
       "     </g>\n",
       "    </g>\n",
       "    <g id=\"ytick_6\">\n",
       "     <g id=\"line2d_17\">\n",
       "      <g>\n",
       "       <use style=\"stroke:#000000;stroke-width:0.6;\" x=\"68.378125\" xlink:href=\"#m0e033f1f28\" y=\"64.273991\"/>\n",
       "      </g>\n",
       "     </g>\n",
       "    </g>\n",
       "    <g id=\"text_9\">\n",
       "     <!-- rmse -->\n",
       "     <g transform=\"translate(14.798438 87.669531)rotate(-90)scale(0.1 -0.1)\">\n",
       "      <defs>\n",
       "       <path d=\"M 2631 2963 \n",
       "Q 2534 3019 2420 3045 \n",
       "Q 2306 3072 2169 3072 \n",
       "Q 1681 3072 1420 2755 \n",
       "Q 1159 2438 1159 1844 \n",
       "L 1159 0 \n",
       "L 581 0 \n",
       "L 581 3500 \n",
       "L 1159 3500 \n",
       "L 1159 2956 \n",
       "Q 1341 3275 1631 3429 \n",
       "Q 1922 3584 2338 3584 \n",
       "Q 2397 3584 2469 3576 \n",
       "Q 2541 3569 2628 3553 \n",
       "L 2631 2963 \n",
       "z\n",
       "\" id=\"DejaVuSans-72\" transform=\"scale(0.015625)\"/>\n",
       "       <path d=\"M 3328 2828 \n",
       "Q 3544 3216 3844 3400 \n",
       "Q 4144 3584 4550 3584 \n",
       "Q 5097 3584 5394 3201 \n",
       "Q 5691 2819 5691 2113 \n",
       "L 5691 0 \n",
       "L 5113 0 \n",
       "L 5113 2094 \n",
       "Q 5113 2597 4934 2840 \n",
       "Q 4756 3084 4391 3084 \n",
       "Q 3944 3084 3684 2787 \n",
       "Q 3425 2491 3425 1978 \n",
       "L 3425 0 \n",
       "L 2847 0 \n",
       "L 2847 2094 \n",
       "Q 2847 2600 2669 2842 \n",
       "Q 2491 3084 2119 3084 \n",
       "Q 1678 3084 1418 2786 \n",
       "Q 1159 2488 1159 1978 \n",
       "L 1159 0 \n",
       "L 581 0 \n",
       "L 581 3500 \n",
       "L 1159 3500 \n",
       "L 1159 2956 \n",
       "Q 1356 3278 1631 3431 \n",
       "Q 1906 3584 2284 3584 \n",
       "Q 2666 3584 2933 3390 \n",
       "Q 3200 3197 3328 2828 \n",
       "z\n",
       "\" id=\"DejaVuSans-6d\" transform=\"scale(0.015625)\"/>\n",
       "       <path d=\"M 2834 3397 \n",
       "L 2834 2853 \n",
       "Q 2591 2978 2328 3040 \n",
       "Q 2066 3103 1784 3103 \n",
       "Q 1356 3103 1142 2972 \n",
       "Q 928 2841 928 2578 \n",
       "Q 928 2378 1081 2264 \n",
       "Q 1234 2150 1697 2047 \n",
       "L 1894 2003 \n",
       "Q 2506 1872 2764 1633 \n",
       "Q 3022 1394 3022 966 \n",
       "Q 3022 478 2636 193 \n",
       "Q 2250 -91 1575 -91 \n",
       "Q 1294 -91 989 -36 \n",
       "Q 684 19 347 128 \n",
       "L 347 722 \n",
       "Q 666 556 975 473 \n",
       "Q 1284 391 1588 391 \n",
       "Q 1994 391 2212 530 \n",
       "Q 2431 669 2431 922 \n",
       "Q 2431 1156 2273 1281 \n",
       "Q 2116 1406 1581 1522 \n",
       "L 1381 1569 \n",
       "Q 847 1681 609 1914 \n",
       "Q 372 2147 372 2553 \n",
       "Q 372 3047 722 3315 \n",
       "Q 1072 3584 1716 3584 \n",
       "Q 2034 3584 2315 3537 \n",
       "Q 2597 3491 2834 3397 \n",
       "z\n",
       "\" id=\"DejaVuSans-73\" transform=\"scale(0.015625)\"/>\n",
       "      </defs>\n",
       "      <use xlink:href=\"#DejaVuSans-72\"/>\n",
       "      <use x=\"39.363281\" xlink:href=\"#DejaVuSans-6d\"/>\n",
       "      <use x=\"136.775391\" xlink:href=\"#DejaVuSans-73\"/>\n",
       "      <use x=\"188.875\" xlink:href=\"#DejaVuSans-65\"/>\n",
       "     </g>\n",
       "    </g>\n",
       "   </g>\n",
       "   <g id=\"line2d_18\">\n",
       "    <path clip-path=\"url(#pcf69405c5a)\" d=\"M 68.378125 13.377273 \n",
       "L 70.350852 104.1033 \n",
       "L 72.32358 108.127347 \n",
       "L 74.296307 108.267779 \n",
       "L 76.269034 111.78517 \n",
       "L 78.241761 111.534569 \n",
       "L 80.214489 112.985967 \n",
       "L 82.187216 116.662319 \n",
       "L 84.159943 119.042343 \n",
       "L 86.13267 125.221489 \n",
       "L 88.105398 126.401017 \n",
       "L 90.078125 126.171819 \n",
       "L 92.050852 125.774224 \n",
       "L 94.02358 126.880044 \n",
       "L 95.996307 126.430305 \n",
       "L 97.969034 127.031942 \n",
       "L 99.941761 126.077097 \n",
       "L 101.914489 126.113538 \n",
       "L 103.887216 126.566 \n",
       "L 105.859943 127.562145 \n",
       "L 107.83267 126.973213 \n",
       "L 109.805398 127.129569 \n",
       "L 111.778125 128.133677 \n",
       "L 113.750852 126.713618 \n",
       "L 115.72358 127.312437 \n",
       "L 117.696307 127.513623 \n",
       "L 119.669034 127.635649 \n",
       "L 121.641761 130.199188 \n",
       "L 123.614489 128.41853 \n",
       "L 125.587216 128.290806 \n",
       "L 127.559943 127.672528 \n",
       "L 129.53267 127.61251 \n",
       "L 131.505398 128.278837 \n",
       "L 133.478125 127.631568 \n",
       "L 135.450852 127.4252 \n",
       "L 137.42358 128.067962 \n",
       "L 139.396307 127.386542 \n",
       "L 141.369034 129.784824 \n",
       "L 143.341761 129.298387 \n",
       "L 145.314489 128.594241 \n",
       "L 147.287216 126.820265 \n",
       "L 149.259943 128.473388 \n",
       "L 151.23267 127.572854 \n",
       "L 153.205398 128.212557 \n",
       "L 155.178125 128.253833 \n",
       "L 157.150852 128.712001 \n",
       "L 159.12358 129.287578 \n",
       "L 161.096307 127.841698 \n",
       "L 163.069034 128.659459 \n",
       "L 165.041761 128.824381 \n",
       "L 167.014489 127.116405 \n",
       "L 168.987216 128.087364 \n",
       "L 170.959943 128.754637 \n",
       "L 172.93267 128.597653 \n",
       "L 174.905398 128.518371 \n",
       "L 176.878125 128.385767 \n",
       "L 178.850852 128.20842 \n",
       "L 180.82358 129.475931 \n",
       "L 182.796307 130.928102 \n",
       "L 184.769034 129.366455 \n",
       "L 186.741761 128.430955 \n",
       "L 188.714489 128.694932 \n",
       "L 190.687216 128.587014 \n",
       "L 192.659943 129.681259 \n",
       "L 194.63267 127.988749 \n",
       "L 196.605398 129.259451 \n",
       "L 198.578125 129.924096 \n",
       "L 200.550852 129.437051 \n",
       "L 202.52358 128.669459 \n",
       "L 204.496307 131.061419 \n",
       "L 206.469034 130.525495 \n",
       "L 208.441761 128.405644 \n",
       "L 210.414489 129.60739 \n",
       "L 212.387216 130.029901 \n",
       "L 214.359943 129.109079 \n",
       "L 216.33267 128.548934 \n",
       "L 218.305398 129.266512 \n",
       "L 220.278125 128.78394 \n",
       "L 222.250852 129.185315 \n",
       "L 224.22358 129.7857 \n",
       "L 226.196307 128.61576 \n",
       "L 228.169034 132.250784 \n",
       "L 230.141761 128.585333 \n",
       "L 232.114489 129.038919 \n",
       "L 234.087216 129.131474 \n",
       "L 236.059943 129.231054 \n",
       "L 238.03267 129.95516 \n",
       "L 240.005398 129.074579 \n",
       "L 241.978125 130.368715 \n",
       "L 243.950852 127.242854 \n",
       "L 245.92358 130.275224 \n",
       "L 247.896307 128.374587 \n",
       "L 249.869034 128.331389 \n",
       "L 251.841761 129.541778 \n",
       "L 253.814489 130.34803 \n",
       "L 255.787216 131.385132 \n",
       "L 257.759943 128.802527 \n",
       "L 259.73267 129.450945 \n",
       "L 261.705398 131.160917 \n",
       "L 263.678125 128.955228 \n",
       "\" style=\"fill:none;stroke:#1f77b4;stroke-linecap:square;stroke-width:1.5;\"/>\n",
       "   </g>\n",
       "   <g id=\"line2d_19\">\n",
       "    <path clip-path=\"url(#pcf69405c5a)\" d=\"M 68.378125 31.588839 \n",
       "L 70.350852 102.971291 \n",
       "L 72.32358 106.130905 \n",
       "L 74.296307 106.855936 \n",
       "L 76.269034 109.500406 \n",
       "L 78.241761 109.686902 \n",
       "L 80.214489 111.653844 \n",
       "L 82.187216 117.9394 \n",
       "L 84.159943 122.877665 \n",
       "L 86.13267 129.473912 \n",
       "L 88.105398 131.542656 \n",
       "L 90.078125 131.615969 \n",
       "L 92.050852 131.583434 \n",
       "L 94.02358 132.2551 \n",
       "L 95.996307 132.298277 \n",
       "L 97.969034 132.660021 \n",
       "L 99.941761 132.278005 \n",
       "L 101.914489 132.526351 \n",
       "L 103.887216 132.607284 \n",
       "L 105.859943 133.252251 \n",
       "L 107.83267 133.120142 \n",
       "L 109.805398 133.049636 \n",
       "L 111.778125 133.641368 \n",
       "L 113.750852 133.202188 \n",
       "L 115.72358 133.299037 \n",
       "L 117.696307 133.114863 \n",
       "L 119.669034 133.186152 \n",
       "L 121.641761 134.951142 \n",
       "L 123.614489 134.063193 \n",
       "L 125.587216 134.231956 \n",
       "L 127.559943 133.841245 \n",
       "L 129.53267 133.772629 \n",
       "L 131.505398 134.186897 \n",
       "L 133.478125 133.570601 \n",
       "L 135.450852 133.683702 \n",
       "L 137.42358 133.81369 \n",
       "L 139.396307 133.472087 \n",
       "L 141.369034 134.981359 \n",
       "L 143.341761 134.766575 \n",
       "L 145.314489 134.399811 \n",
       "L 147.287216 132.933102 \n",
       "L 149.259943 134.211715 \n",
       "L 151.23267 133.694429 \n",
       "L 153.205398 134.096436 \n",
       "L 155.178125 133.867968 \n",
       "L 157.150852 134.43163 \n",
       "L 159.12358 134.547281 \n",
       "L 161.096307 133.705718 \n",
       "L 163.069034 134.507678 \n",
       "L 165.041761 134.56156 \n",
       "L 167.014489 133.451369 \n",
       "L 168.987216 133.973879 \n",
       "L 170.959943 134.399219 \n",
       "L 172.93267 134.380672 \n",
       "L 174.905398 134.086667 \n",
       "L 176.878125 134.109907 \n",
       "L 178.850852 134.01336 \n",
       "L 180.82358 134.867398 \n",
       "L 182.796307 135.813974 \n",
       "L 184.769034 134.72009 \n",
       "L 186.741761 134.19258 \n",
       "L 188.714489 134.625499 \n",
       "L 190.687216 134.501844 \n",
       "L 192.659943 134.908468 \n",
       "L 194.63267 134.31846 \n",
       "L 196.605398 135.009302 \n",
       "L 198.578125 135.435798 \n",
       "L 200.550852 135.04251 \n",
       "L 202.52358 134.63142 \n",
       "L 204.496307 136.183618 \n",
       "L 206.469034 135.924709 \n",
       "L 208.441761 134.285063 \n",
       "L 210.414489 135.403809 \n",
       "L 212.387216 135.659077 \n",
       "L 214.359943 134.987402 \n",
       "L 216.33267 134.604844 \n",
       "L 218.305398 134.924251 \n",
       "L 220.278125 134.993813 \n",
       "L 222.250852 135.064891 \n",
       "L 224.22358 135.478263 \n",
       "L 226.196307 134.959638 \n",
       "L 228.169034 136.922727 \n",
       "L 230.141761 135.110929 \n",
       "L 232.114489 135.118119 \n",
       "L 234.087216 135.257009 \n",
       "L 236.059943 135.172013 \n",
       "L 238.03267 135.587053 \n",
       "L 240.005398 135.398103 \n",
       "L 241.978125 136.152856 \n",
       "L 243.950852 134.194724 \n",
       "L 245.92358 136.085396 \n",
       "L 247.896307 135.156519 \n",
       "L 249.869034 134.801278 \n",
       "L 251.841761 135.737042 \n",
       "L 253.814489 135.951697 \n",
       "L 255.787216 136.704054 \n",
       "L 257.759943 135.133131 \n",
       "L 259.73267 135.36882 \n",
       "L 261.705398 136.459782 \n",
       "L 263.678125 135.339264 \n",
       "\" style=\"fill:none;stroke:#bf00bf;stroke-dasharray:5.55,2.4;stroke-dashoffset:0;stroke-width:1.5;\"/>\n",
       "   </g>\n",
       "   <g id=\"patch_3\">\n",
       "    <path d=\"M 68.378125 143.1 \n",
       "L 68.378125 7.2 \n",
       "\" style=\"fill:none;stroke:#000000;stroke-linecap:square;stroke-linejoin:miter;stroke-width:0.8;\"/>\n",
       "   </g>\n",
       "   <g id=\"patch_4\">\n",
       "    <path d=\"M 263.678125 143.1 \n",
       "L 263.678125 7.2 \n",
       "\" style=\"fill:none;stroke:#000000;stroke-linecap:square;stroke-linejoin:miter;stroke-width:0.8;\"/>\n",
       "   </g>\n",
       "   <g id=\"patch_5\">\n",
       "    <path d=\"M 68.378125 143.1 \n",
       "L 263.678125 143.1 \n",
       "\" style=\"fill:none;stroke:#000000;stroke-linecap:square;stroke-linejoin:miter;stroke-width:0.8;\"/>\n",
       "   </g>\n",
       "   <g id=\"patch_6\">\n",
       "    <path d=\"M 68.378125 7.2 \n",
       "L 263.678125 7.2 \n",
       "\" style=\"fill:none;stroke:#000000;stroke-linecap:square;stroke-linejoin:miter;stroke-width:0.8;\"/>\n",
       "   </g>\n",
       "   <g id=\"legend_1\">\n",
       "    <g id=\"patch_7\">\n",
       "     <path d=\"M 200.726563 44.55625 \n",
       "L 256.678125 44.55625 \n",
       "Q 258.678125 44.55625 258.678125 42.55625 \n",
       "L 258.678125 14.2 \n",
       "Q 258.678125 12.2 256.678125 12.2 \n",
       "L 200.726563 12.2 \n",
       "Q 198.726563 12.2 198.726563 14.2 \n",
       "L 198.726563 42.55625 \n",
       "Q 198.726563 44.55625 200.726563 44.55625 \n",
       "z\n",
       "\" style=\"fill:#ffffff;opacity:0.8;stroke:#cccccc;stroke-linejoin:miter;\"/>\n",
       "    </g>\n",
       "    <g id=\"line2d_20\">\n",
       "     <path d=\"M 202.726563 20.298437 \n",
       "L 222.726563 20.298437 \n",
       "\" style=\"fill:none;stroke:#1f77b4;stroke-linecap:square;stroke-width:1.5;\"/>\n",
       "    </g>\n",
       "    <g id=\"line2d_21\"/>\n",
       "    <g id=\"text_10\">\n",
       "     <!-- train -->\n",
       "     <g transform=\"translate(230.726563 23.798437)scale(0.1 -0.1)\">\n",
       "      <defs>\n",
       "       <path d=\"M 1172 4494 \n",
       "L 1172 3500 \n",
       "L 2356 3500 \n",
       "L 2356 3053 \n",
       "L 1172 3053 \n",
       "L 1172 1153 \n",
       "Q 1172 725 1289 603 \n",
       "Q 1406 481 1766 481 \n",
       "L 2356 481 \n",
       "L 2356 0 \n",
       "L 1766 0 \n",
       "Q 1100 0 847 248 \n",
       "Q 594 497 594 1153 \n",
       "L 594 3053 \n",
       "L 172 3053 \n",
       "L 172 3500 \n",
       "L 594 3500 \n",
       "L 594 4494 \n",
       "L 1172 4494 \n",
       "z\n",
       "\" id=\"DejaVuSans-74\" transform=\"scale(0.015625)\"/>\n",
       "       <path d=\"M 2194 1759 \n",
       "Q 1497 1759 1228 1600 \n",
       "Q 959 1441 959 1056 \n",
       "Q 959 750 1161 570 \n",
       "Q 1363 391 1709 391 \n",
       "Q 2188 391 2477 730 \n",
       "Q 2766 1069 2766 1631 \n",
       "L 2766 1759 \n",
       "L 2194 1759 \n",
       "z\n",
       "M 3341 1997 \n",
       "L 3341 0 \n",
       "L 2766 0 \n",
       "L 2766 531 \n",
       "Q 2569 213 2275 61 \n",
       "Q 1981 -91 1556 -91 \n",
       "Q 1019 -91 701 211 \n",
       "Q 384 513 384 1019 \n",
       "Q 384 1609 779 1909 \n",
       "Q 1175 2209 1959 2209 \n",
       "L 2766 2209 \n",
       "L 2766 2266 \n",
       "Q 2766 2663 2505 2880 \n",
       "Q 2244 3097 1772 3097 \n",
       "Q 1472 3097 1187 3025 \n",
       "Q 903 2953 641 2809 \n",
       "L 641 3341 \n",
       "Q 956 3463 1253 3523 \n",
       "Q 1550 3584 1831 3584 \n",
       "Q 2591 3584 2966 3190 \n",
       "Q 3341 2797 3341 1997 \n",
       "z\n",
       "\" id=\"DejaVuSans-61\" transform=\"scale(0.015625)\"/>\n",
       "       <path d=\"M 603 3500 \n",
       "L 1178 3500 \n",
       "L 1178 0 \n",
       "L 603 0 \n",
       "L 603 3500 \n",
       "z\n",
       "M 603 4863 \n",
       "L 1178 4863 \n",
       "L 1178 4134 \n",
       "L 603 4134 \n",
       "L 603 4863 \n",
       "z\n",
       "\" id=\"DejaVuSans-69\" transform=\"scale(0.015625)\"/>\n",
       "       <path d=\"M 3513 2113 \n",
       "L 3513 0 \n",
       "L 2938 0 \n",
       "L 2938 2094 \n",
       "Q 2938 2591 2744 2837 \n",
       "Q 2550 3084 2163 3084 \n",
       "Q 1697 3084 1428 2787 \n",
       "Q 1159 2491 1159 1978 \n",
       "L 1159 0 \n",
       "L 581 0 \n",
       "L 581 3500 \n",
       "L 1159 3500 \n",
       "L 1159 2956 \n",
       "Q 1366 3272 1645 3428 \n",
       "Q 1925 3584 2291 3584 \n",
       "Q 2894 3584 3203 3211 \n",
       "Q 3513 2838 3513 2113 \n",
       "z\n",
       "\" id=\"DejaVuSans-6e\" transform=\"scale(0.015625)\"/>\n",
       "      </defs>\n",
       "      <use xlink:href=\"#DejaVuSans-74\"/>\n",
       "      <use x=\"39.208984\" xlink:href=\"#DejaVuSans-72\"/>\n",
       "      <use x=\"80.322266\" xlink:href=\"#DejaVuSans-61\"/>\n",
       "      <use x=\"141.601562\" xlink:href=\"#DejaVuSans-69\"/>\n",
       "      <use x=\"169.384766\" xlink:href=\"#DejaVuSans-6e\"/>\n",
       "     </g>\n",
       "    </g>\n",
       "    <g id=\"line2d_22\">\n",
       "     <path d=\"M 202.726563 34.976562 \n",
       "L 222.726563 34.976562 \n",
       "\" style=\"fill:none;stroke:#bf00bf;stroke-dasharray:5.55,2.4;stroke-dashoffset:0;stroke-width:1.5;\"/>\n",
       "    </g>\n",
       "    <g id=\"line2d_23\"/>\n",
       "    <g id=\"text_11\">\n",
       "     <!-- valid -->\n",
       "     <g transform=\"translate(230.726563 38.476562)scale(0.1 -0.1)\">\n",
       "      <defs>\n",
       "       <path d=\"M 191 3500 \n",
       "L 800 3500 \n",
       "L 1894 563 \n",
       "L 2988 3500 \n",
       "L 3597 3500 \n",
       "L 2284 0 \n",
       "L 1503 0 \n",
       "L 191 3500 \n",
       "z\n",
       "\" id=\"DejaVuSans-76\" transform=\"scale(0.015625)\"/>\n",
       "       <path d=\"M 603 4863 \n",
       "L 1178 4863 \n",
       "L 1178 0 \n",
       "L 603 0 \n",
       "L 603 4863 \n",
       "z\n",
       "\" id=\"DejaVuSans-6c\" transform=\"scale(0.015625)\"/>\n",
       "       <path d=\"M 2906 2969 \n",
       "L 2906 4863 \n",
       "L 3481 4863 \n",
       "L 3481 0 \n",
       "L 2906 0 \n",
       "L 2906 525 \n",
       "Q 2725 213 2448 61 \n",
       "Q 2172 -91 1784 -91 \n",
       "Q 1150 -91 751 415 \n",
       "Q 353 922 353 1747 \n",
       "Q 353 2572 751 3078 \n",
       "Q 1150 3584 1784 3584 \n",
       "Q 2172 3584 2448 3432 \n",
       "Q 2725 3281 2906 2969 \n",
       "z\n",
       "M 947 1747 \n",
       "Q 947 1113 1208 752 \n",
       "Q 1469 391 1925 391 \n",
       "Q 2381 391 2643 752 \n",
       "Q 2906 1113 2906 1747 \n",
       "Q 2906 2381 2643 2742 \n",
       "Q 2381 3103 1925 3103 \n",
       "Q 1469 3103 1208 2742 \n",
       "Q 947 2381 947 1747 \n",
       "z\n",
       "\" id=\"DejaVuSans-64\" transform=\"scale(0.015625)\"/>\n",
       "      </defs>\n",
       "      <use xlink:href=\"#DejaVuSans-76\"/>\n",
       "      <use x=\"59.179688\" xlink:href=\"#DejaVuSans-61\"/>\n",
       "      <use x=\"120.458984\" xlink:href=\"#DejaVuSans-6c\"/>\n",
       "      <use x=\"148.242188\" xlink:href=\"#DejaVuSans-69\"/>\n",
       "      <use x=\"176.025391\" xlink:href=\"#DejaVuSans-64\"/>\n",
       "     </g>\n",
       "    </g>\n",
       "   </g>\n",
       "  </g>\n",
       " </g>\n",
       " <defs>\n",
       "  <clipPath id=\"pcf69405c5a\">\n",
       "   <rect height=\"135.9\" width=\"195.3\" x=\"68.378125\" y=\"7.2\"/>\n",
       "  </clipPath>\n",
       " </defs>\n",
       "</svg>\n"
      ],
      "text/plain": [
       "<Figure size 252x180 with 1 Axes>"
      ]
     },
     "metadata": {
      "needs_background": "light"
     },
     "output_type": "display_data"
    }
   ],
   "source": [
    "k, num_epochs, lr, weight_decay, batch_size = 5, 100, 0.1, 0.1, 64    # 调参数\n",
    "train_l, valid_l = k_fold(k, train_features, train_labels, num_epochs, lr,\n",
    "                          weight_decay, batch_size)\n",
    "print(f'{k}-折验证: 平均训练log rmse: {float(train_l):f}, '\n",
    "      f'平均验证log rmse: {float(valid_l):f}')"
   ]
  },
  {
   "cell_type": "markdown",
   "id": "close-methodology",
   "metadata": {
    "papermill": {
     "duration": 0.047899,
     "end_time": "2021-06-11T02:14:38.574765",
     "exception": false,
     "start_time": "2021-06-11T02:14:38.526866",
     "status": "completed"
    },
    "tags": []
   },
   "source": [
    "在模型选择的过程中发现，有的参数会使loss随着epoch增加波动过大，而不是稳定下降。这种情况很可能是因为batch_size不够大，模型不稳定，可以增大batch_size来缓解。"
   ]
  },
  {
   "cell_type": "markdown",
   "id": "decent-precipitation",
   "metadata": {
    "papermill": {
     "duration": 0.047866,
     "end_time": "2021-06-11T02:14:38.670571",
     "exception": false,
     "start_time": "2021-06-11T02:14:38.622705",
     "status": "completed"
    },
    "tags": []
   },
   "source": [
    "## 预测"
   ]
  },
  {
   "cell_type": "code",
   "execution_count": 34,
   "id": "other-november",
   "metadata": {
    "execution": {
     "iopub.execute_input": "2021-06-11T02:14:38.810257Z",
     "iopub.status.busy": "2021-06-11T02:14:38.809716Z",
     "iopub.status.idle": "2021-06-11T02:14:38.813494Z",
     "shell.execute_reply": "2021-06-11T02:14:38.813078Z",
     "shell.execute_reply.started": "2021-06-10T08:44:22.128976Z"
    },
    "papermill": {
     "duration": 0.094564,
     "end_time": "2021-06-11T02:14:38.813598",
     "exception": false,
     "start_time": "2021-06-11T02:14:38.719034",
     "status": "completed"
    },
    "tags": []
   },
   "outputs": [],
   "source": [
    "def train_and_pred(train_features, test_feature, train_labels, test_data,\n",
    "                   num_epochs, lr, weight_decay, batch_size):\n",
    "    net = get_net()\n",
    "    train_ls, _ = train(net, train_features, train_labels, None, None,\n",
    "                        num_epochs, lr, weight_decay, batch_size)\n",
    "    d2l.plot(np.arange(1, num_epochs + 1), [train_ls], xlabel='epoch',\n",
    "             ylabel='log rmse', xlim=[1, num_epochs], yscale='log')\n",
    "    print(f'train log rmse {float(train_ls[-1]):f}')\n",
    "    # 将网络应用于测试集。\n",
    "    preds = net(test_features).detach().numpy()\n",
    "    # 将其重新格式化以导出到Kaggle\n",
    "    test_data['Sold Price'] = pd.Series(preds.reshape(1, -1)[0])\n",
    "    submission = pd.concat([test_data['Id'], test_data['Sold Price']], axis=1)\n",
    "    submission.to_csv('submission.csv', index=False)"
   ]
  },
  {
   "cell_type": "code",
   "execution_count": 35,
   "id": "protective-footwear",
   "metadata": {
    "execution": {
     "iopub.execute_input": "2021-06-11T02:14:38.914154Z",
     "iopub.status.busy": "2021-06-11T02:14:38.913411Z",
     "iopub.status.idle": "2021-06-11T02:17:23.162629Z",
     "shell.execute_reply": "2021-06-11T02:17:23.163038Z",
     "shell.execute_reply.started": "2021-06-11T00:48:53.712177Z"
    },
    "papermill": {
     "duration": 164.301164,
     "end_time": "2021-06-11T02:17:23.163191",
     "exception": false,
     "start_time": "2021-06-11T02:14:38.862027",
     "status": "completed"
    },
    "tags": []
   },
   "outputs": [
    {
     "name": "stdout",
     "output_type": "stream",
     "text": [
      "train log rmse 0.441940\n"
     ]
    },
    {
     "data": {
      "image/svg+xml": [
       "<?xml version=\"1.0\" encoding=\"utf-8\" standalone=\"no\"?>\n",
       "<!DOCTYPE svg PUBLIC \"-//W3C//DTD SVG 1.1//EN\"\n",
       "  \"http://www.w3.org/Graphics/SVG/1.1/DTD/svg11.dtd\">\n",
       "<svg height=\"180.65625pt\" version=\"1.1\" viewBox=\"0 0 280.421875 180.65625\" width=\"280.421875pt\" xmlns=\"http://www.w3.org/2000/svg\" xmlns:xlink=\"http://www.w3.org/1999/xlink\">\n",
       " <metadata>\n",
       "  <rdf:RDF xmlns:cc=\"http://creativecommons.org/ns#\" xmlns:dc=\"http://purl.org/dc/elements/1.1/\" xmlns:rdf=\"http://www.w3.org/1999/02/22-rdf-syntax-ns#\">\n",
       "   <cc:Work>\n",
       "    <dc:type rdf:resource=\"http://purl.org/dc/dcmitype/StillImage\"/>\n",
       "    <dc:date>2021-06-11T02:17:23.108778</dc:date>\n",
       "    <dc:format>image/svg+xml</dc:format>\n",
       "    <dc:creator>\n",
       "     <cc:Agent>\n",
       "      <dc:title>Matplotlib v3.4.1, https://matplotlib.org/</dc:title>\n",
       "     </cc:Agent>\n",
       "    </dc:creator>\n",
       "   </cc:Work>\n",
       "  </rdf:RDF>\n",
       " </metadata>\n",
       " <defs>\n",
       "  <style type=\"text/css\">*{stroke-linecap:butt;stroke-linejoin:round;}</style>\n",
       " </defs>\n",
       " <g id=\"figure_1\">\n",
       "  <g id=\"patch_1\">\n",
       "   <path d=\"M 0 180.65625 \n",
       "L 280.421875 180.65625 \n",
       "L 280.421875 0 \n",
       "L 0 0 \n",
       "z\n",
       "\" style=\"fill:none;\"/>\n",
       "  </g>\n",
       "  <g id=\"axes_1\">\n",
       "   <g id=\"patch_2\">\n",
       "    <path d=\"M 68.378125 143.1 \n",
       "L 263.678125 143.1 \n",
       "L 263.678125 7.2 \n",
       "L 68.378125 7.2 \n",
       "z\n",
       "\" style=\"fill:#ffffff;\"/>\n",
       "   </g>\n",
       "   <g id=\"matplotlib.axis_1\">\n",
       "    <g id=\"xtick_1\">\n",
       "     <g id=\"line2d_1\">\n",
       "      <path clip-path=\"url(#p2deb202ee6)\" d=\"M 105.859943 143.1 \n",
       "L 105.859943 7.2 \n",
       "\" style=\"fill:none;stroke:#b0b0b0;stroke-linecap:square;stroke-width:0.8;\"/>\n",
       "     </g>\n",
       "     <g id=\"line2d_2\">\n",
       "      <defs>\n",
       "       <path d=\"M 0 0 \n",
       "L 0 3.5 \n",
       "\" id=\"mfc192a8c29\" style=\"stroke:#000000;stroke-width:0.8;\"/>\n",
       "      </defs>\n",
       "      <g>\n",
       "       <use style=\"stroke:#000000;stroke-width:0.8;\" x=\"105.859943\" xlink:href=\"#mfc192a8c29\" y=\"143.1\"/>\n",
       "      </g>\n",
       "     </g>\n",
       "     <g id=\"text_1\">\n",
       "      <!-- 20 -->\n",
       "      <g transform=\"translate(99.497443 157.698438)scale(0.1 -0.1)\">\n",
       "       <defs>\n",
       "        <path d=\"M 1228 531 \n",
       "L 3431 531 \n",
       "L 3431 0 \n",
       "L 469 0 \n",
       "L 469 531 \n",
       "Q 828 903 1448 1529 \n",
       "Q 2069 2156 2228 2338 \n",
       "Q 2531 2678 2651 2914 \n",
       "Q 2772 3150 2772 3378 \n",
       "Q 2772 3750 2511 3984 \n",
       "Q 2250 4219 1831 4219 \n",
       "Q 1534 4219 1204 4116 \n",
       "Q 875 4013 500 3803 \n",
       "L 500 4441 \n",
       "Q 881 4594 1212 4672 \n",
       "Q 1544 4750 1819 4750 \n",
       "Q 2544 4750 2975 4387 \n",
       "Q 3406 4025 3406 3419 \n",
       "Q 3406 3131 3298 2873 \n",
       "Q 3191 2616 2906 2266 \n",
       "Q 2828 2175 2409 1742 \n",
       "Q 1991 1309 1228 531 \n",
       "z\n",
       "\" id=\"DejaVuSans-32\" transform=\"scale(0.015625)\"/>\n",
       "        <path d=\"M 2034 4250 \n",
       "Q 1547 4250 1301 3770 \n",
       "Q 1056 3291 1056 2328 \n",
       "Q 1056 1369 1301 889 \n",
       "Q 1547 409 2034 409 \n",
       "Q 2525 409 2770 889 \n",
       "Q 3016 1369 3016 2328 \n",
       "Q 3016 3291 2770 3770 \n",
       "Q 2525 4250 2034 4250 \n",
       "z\n",
       "M 2034 4750 \n",
       "Q 2819 4750 3233 4129 \n",
       "Q 3647 3509 3647 2328 \n",
       "Q 3647 1150 3233 529 \n",
       "Q 2819 -91 2034 -91 \n",
       "Q 1250 -91 836 529 \n",
       "Q 422 1150 422 2328 \n",
       "Q 422 3509 836 4129 \n",
       "Q 1250 4750 2034 4750 \n",
       "z\n",
       "\" id=\"DejaVuSans-30\" transform=\"scale(0.015625)\"/>\n",
       "       </defs>\n",
       "       <use xlink:href=\"#DejaVuSans-32\"/>\n",
       "       <use x=\"63.623047\" xlink:href=\"#DejaVuSans-30\"/>\n",
       "      </g>\n",
       "     </g>\n",
       "    </g>\n",
       "    <g id=\"xtick_2\">\n",
       "     <g id=\"line2d_3\">\n",
       "      <path clip-path=\"url(#p2deb202ee6)\" d=\"M 145.314489 143.1 \n",
       "L 145.314489 7.2 \n",
       "\" style=\"fill:none;stroke:#b0b0b0;stroke-linecap:square;stroke-width:0.8;\"/>\n",
       "     </g>\n",
       "     <g id=\"line2d_4\">\n",
       "      <g>\n",
       "       <use style=\"stroke:#000000;stroke-width:0.8;\" x=\"145.314489\" xlink:href=\"#mfc192a8c29\" y=\"143.1\"/>\n",
       "      </g>\n",
       "     </g>\n",
       "     <g id=\"text_2\">\n",
       "      <!-- 40 -->\n",
       "      <g transform=\"translate(138.951989 157.698438)scale(0.1 -0.1)\">\n",
       "       <defs>\n",
       "        <path d=\"M 2419 4116 \n",
       "L 825 1625 \n",
       "L 2419 1625 \n",
       "L 2419 4116 \n",
       "z\n",
       "M 2253 4666 \n",
       "L 3047 4666 \n",
       "L 3047 1625 \n",
       "L 3713 1625 \n",
       "L 3713 1100 \n",
       "L 3047 1100 \n",
       "L 3047 0 \n",
       "L 2419 0 \n",
       "L 2419 1100 \n",
       "L 313 1100 \n",
       "L 313 1709 \n",
       "L 2253 4666 \n",
       "z\n",
       "\" id=\"DejaVuSans-34\" transform=\"scale(0.015625)\"/>\n",
       "       </defs>\n",
       "       <use xlink:href=\"#DejaVuSans-34\"/>\n",
       "       <use x=\"63.623047\" xlink:href=\"#DejaVuSans-30\"/>\n",
       "      </g>\n",
       "     </g>\n",
       "    </g>\n",
       "    <g id=\"xtick_3\">\n",
       "     <g id=\"line2d_5\">\n",
       "      <path clip-path=\"url(#p2deb202ee6)\" d=\"M 184.769034 143.1 \n",
       "L 184.769034 7.2 \n",
       "\" style=\"fill:none;stroke:#b0b0b0;stroke-linecap:square;stroke-width:0.8;\"/>\n",
       "     </g>\n",
       "     <g id=\"line2d_6\">\n",
       "      <g>\n",
       "       <use style=\"stroke:#000000;stroke-width:0.8;\" x=\"184.769034\" xlink:href=\"#mfc192a8c29\" y=\"143.1\"/>\n",
       "      </g>\n",
       "     </g>\n",
       "     <g id=\"text_3\">\n",
       "      <!-- 60 -->\n",
       "      <g transform=\"translate(178.406534 157.698438)scale(0.1 -0.1)\">\n",
       "       <defs>\n",
       "        <path d=\"M 2113 2584 \n",
       "Q 1688 2584 1439 2293 \n",
       "Q 1191 2003 1191 1497 \n",
       "Q 1191 994 1439 701 \n",
       "Q 1688 409 2113 409 \n",
       "Q 2538 409 2786 701 \n",
       "Q 3034 994 3034 1497 \n",
       "Q 3034 2003 2786 2293 \n",
       "Q 2538 2584 2113 2584 \n",
       "z\n",
       "M 3366 4563 \n",
       "L 3366 3988 \n",
       "Q 3128 4100 2886 4159 \n",
       "Q 2644 4219 2406 4219 \n",
       "Q 1781 4219 1451 3797 \n",
       "Q 1122 3375 1075 2522 \n",
       "Q 1259 2794 1537 2939 \n",
       "Q 1816 3084 2150 3084 \n",
       "Q 2853 3084 3261 2657 \n",
       "Q 3669 2231 3669 1497 \n",
       "Q 3669 778 3244 343 \n",
       "Q 2819 -91 2113 -91 \n",
       "Q 1303 -91 875 529 \n",
       "Q 447 1150 447 2328 \n",
       "Q 447 3434 972 4092 \n",
       "Q 1497 4750 2381 4750 \n",
       "Q 2619 4750 2861 4703 \n",
       "Q 3103 4656 3366 4563 \n",
       "z\n",
       "\" id=\"DejaVuSans-36\" transform=\"scale(0.015625)\"/>\n",
       "       </defs>\n",
       "       <use xlink:href=\"#DejaVuSans-36\"/>\n",
       "       <use x=\"63.623047\" xlink:href=\"#DejaVuSans-30\"/>\n",
       "      </g>\n",
       "     </g>\n",
       "    </g>\n",
       "    <g id=\"xtick_4\">\n",
       "     <g id=\"line2d_7\">\n",
       "      <path clip-path=\"url(#p2deb202ee6)\" d=\"M 224.22358 143.1 \n",
       "L 224.22358 7.2 \n",
       "\" style=\"fill:none;stroke:#b0b0b0;stroke-linecap:square;stroke-width:0.8;\"/>\n",
       "     </g>\n",
       "     <g id=\"line2d_8\">\n",
       "      <g>\n",
       "       <use style=\"stroke:#000000;stroke-width:0.8;\" x=\"224.22358\" xlink:href=\"#mfc192a8c29\" y=\"143.1\"/>\n",
       "      </g>\n",
       "     </g>\n",
       "     <g id=\"text_4\">\n",
       "      <!-- 80 -->\n",
       "      <g transform=\"translate(217.86108 157.698438)scale(0.1 -0.1)\">\n",
       "       <defs>\n",
       "        <path d=\"M 2034 2216 \n",
       "Q 1584 2216 1326 1975 \n",
       "Q 1069 1734 1069 1313 \n",
       "Q 1069 891 1326 650 \n",
       "Q 1584 409 2034 409 \n",
       "Q 2484 409 2743 651 \n",
       "Q 3003 894 3003 1313 \n",
       "Q 3003 1734 2745 1975 \n",
       "Q 2488 2216 2034 2216 \n",
       "z\n",
       "M 1403 2484 \n",
       "Q 997 2584 770 2862 \n",
       "Q 544 3141 544 3541 \n",
       "Q 544 4100 942 4425 \n",
       "Q 1341 4750 2034 4750 \n",
       "Q 2731 4750 3128 4425 \n",
       "Q 3525 4100 3525 3541 \n",
       "Q 3525 3141 3298 2862 \n",
       "Q 3072 2584 2669 2484 \n",
       "Q 3125 2378 3379 2068 \n",
       "Q 3634 1759 3634 1313 \n",
       "Q 3634 634 3220 271 \n",
       "Q 2806 -91 2034 -91 \n",
       "Q 1263 -91 848 271 \n",
       "Q 434 634 434 1313 \n",
       "Q 434 1759 690 2068 \n",
       "Q 947 2378 1403 2484 \n",
       "z\n",
       "M 1172 3481 \n",
       "Q 1172 3119 1398 2916 \n",
       "Q 1625 2713 2034 2713 \n",
       "Q 2441 2713 2670 2916 \n",
       "Q 2900 3119 2900 3481 \n",
       "Q 2900 3844 2670 4047 \n",
       "Q 2441 4250 2034 4250 \n",
       "Q 1625 4250 1398 4047 \n",
       "Q 1172 3844 1172 3481 \n",
       "z\n",
       "\" id=\"DejaVuSans-38\" transform=\"scale(0.015625)\"/>\n",
       "       </defs>\n",
       "       <use xlink:href=\"#DejaVuSans-38\"/>\n",
       "       <use x=\"63.623047\" xlink:href=\"#DejaVuSans-30\"/>\n",
       "      </g>\n",
       "     </g>\n",
       "    </g>\n",
       "    <g id=\"xtick_5\">\n",
       "     <g id=\"line2d_9\">\n",
       "      <path clip-path=\"url(#p2deb202ee6)\" d=\"M 263.678125 143.1 \n",
       "L 263.678125 7.2 \n",
       "\" style=\"fill:none;stroke:#b0b0b0;stroke-linecap:square;stroke-width:0.8;\"/>\n",
       "     </g>\n",
       "     <g id=\"line2d_10\">\n",
       "      <g>\n",
       "       <use style=\"stroke:#000000;stroke-width:0.8;\" x=\"263.678125\" xlink:href=\"#mfc192a8c29\" y=\"143.1\"/>\n",
       "      </g>\n",
       "     </g>\n",
       "     <g id=\"text_5\">\n",
       "      <!-- 100 -->\n",
       "      <g transform=\"translate(254.134375 157.698438)scale(0.1 -0.1)\">\n",
       "       <defs>\n",
       "        <path d=\"M 794 531 \n",
       "L 1825 531 \n",
       "L 1825 4091 \n",
       "L 703 3866 \n",
       "L 703 4441 \n",
       "L 1819 4666 \n",
       "L 2450 4666 \n",
       "L 2450 531 \n",
       "L 3481 531 \n",
       "L 3481 0 \n",
       "L 794 0 \n",
       "L 794 531 \n",
       "z\n",
       "\" id=\"DejaVuSans-31\" transform=\"scale(0.015625)\"/>\n",
       "       </defs>\n",
       "       <use xlink:href=\"#DejaVuSans-31\"/>\n",
       "       <use x=\"63.623047\" xlink:href=\"#DejaVuSans-30\"/>\n",
       "       <use x=\"127.246094\" xlink:href=\"#DejaVuSans-30\"/>\n",
       "      </g>\n",
       "     </g>\n",
       "    </g>\n",
       "    <g id=\"text_6\">\n",
       "     <!-- epoch -->\n",
       "     <g transform=\"translate(150.8 171.376563)scale(0.1 -0.1)\">\n",
       "      <defs>\n",
       "       <path d=\"M 3597 1894 \n",
       "L 3597 1613 \n",
       "L 953 1613 \n",
       "Q 991 1019 1311 708 \n",
       "Q 1631 397 2203 397 \n",
       "Q 2534 397 2845 478 \n",
       "Q 3156 559 3463 722 \n",
       "L 3463 178 \n",
       "Q 3153 47 2828 -22 \n",
       "Q 2503 -91 2169 -91 \n",
       "Q 1331 -91 842 396 \n",
       "Q 353 884 353 1716 \n",
       "Q 353 2575 817 3079 \n",
       "Q 1281 3584 2069 3584 \n",
       "Q 2775 3584 3186 3129 \n",
       "Q 3597 2675 3597 1894 \n",
       "z\n",
       "M 3022 2063 \n",
       "Q 3016 2534 2758 2815 \n",
       "Q 2500 3097 2075 3097 \n",
       "Q 1594 3097 1305 2825 \n",
       "Q 1016 2553 972 2059 \n",
       "L 3022 2063 \n",
       "z\n",
       "\" id=\"DejaVuSans-65\" transform=\"scale(0.015625)\"/>\n",
       "       <path d=\"M 1159 525 \n",
       "L 1159 -1331 \n",
       "L 581 -1331 \n",
       "L 581 3500 \n",
       "L 1159 3500 \n",
       "L 1159 2969 \n",
       "Q 1341 3281 1617 3432 \n",
       "Q 1894 3584 2278 3584 \n",
       "Q 2916 3584 3314 3078 \n",
       "Q 3713 2572 3713 1747 \n",
       "Q 3713 922 3314 415 \n",
       "Q 2916 -91 2278 -91 \n",
       "Q 1894 -91 1617 61 \n",
       "Q 1341 213 1159 525 \n",
       "z\n",
       "M 3116 1747 \n",
       "Q 3116 2381 2855 2742 \n",
       "Q 2594 3103 2138 3103 \n",
       "Q 1681 3103 1420 2742 \n",
       "Q 1159 2381 1159 1747 \n",
       "Q 1159 1113 1420 752 \n",
       "Q 1681 391 2138 391 \n",
       "Q 2594 391 2855 752 \n",
       "Q 3116 1113 3116 1747 \n",
       "z\n",
       "\" id=\"DejaVuSans-70\" transform=\"scale(0.015625)\"/>\n",
       "       <path d=\"M 1959 3097 \n",
       "Q 1497 3097 1228 2736 \n",
       "Q 959 2375 959 1747 \n",
       "Q 959 1119 1226 758 \n",
       "Q 1494 397 1959 397 \n",
       "Q 2419 397 2687 759 \n",
       "Q 2956 1122 2956 1747 \n",
       "Q 2956 2369 2687 2733 \n",
       "Q 2419 3097 1959 3097 \n",
       "z\n",
       "M 1959 3584 \n",
       "Q 2709 3584 3137 3096 \n",
       "Q 3566 2609 3566 1747 \n",
       "Q 3566 888 3137 398 \n",
       "Q 2709 -91 1959 -91 \n",
       "Q 1206 -91 779 398 \n",
       "Q 353 888 353 1747 \n",
       "Q 353 2609 779 3096 \n",
       "Q 1206 3584 1959 3584 \n",
       "z\n",
       "\" id=\"DejaVuSans-6f\" transform=\"scale(0.015625)\"/>\n",
       "       <path d=\"M 3122 3366 \n",
       "L 3122 2828 \n",
       "Q 2878 2963 2633 3030 \n",
       "Q 2388 3097 2138 3097 \n",
       "Q 1578 3097 1268 2742 \n",
       "Q 959 2388 959 1747 \n",
       "Q 959 1106 1268 751 \n",
       "Q 1578 397 2138 397 \n",
       "Q 2388 397 2633 464 \n",
       "Q 2878 531 3122 666 \n",
       "L 3122 134 \n",
       "Q 2881 22 2623 -34 \n",
       "Q 2366 -91 2075 -91 \n",
       "Q 1284 -91 818 406 \n",
       "Q 353 903 353 1747 \n",
       "Q 353 2603 823 3093 \n",
       "Q 1294 3584 2113 3584 \n",
       "Q 2378 3584 2631 3529 \n",
       "Q 2884 3475 3122 3366 \n",
       "z\n",
       "\" id=\"DejaVuSans-63\" transform=\"scale(0.015625)\"/>\n",
       "       <path d=\"M 3513 2113 \n",
       "L 3513 0 \n",
       "L 2938 0 \n",
       "L 2938 2094 \n",
       "Q 2938 2591 2744 2837 \n",
       "Q 2550 3084 2163 3084 \n",
       "Q 1697 3084 1428 2787 \n",
       "Q 1159 2491 1159 1978 \n",
       "L 1159 0 \n",
       "L 581 0 \n",
       "L 581 4863 \n",
       "L 1159 4863 \n",
       "L 1159 2956 \n",
       "Q 1366 3272 1645 3428 \n",
       "Q 1925 3584 2291 3584 \n",
       "Q 2894 3584 3203 3211 \n",
       "Q 3513 2838 3513 2113 \n",
       "z\n",
       "\" id=\"DejaVuSans-68\" transform=\"scale(0.015625)\"/>\n",
       "      </defs>\n",
       "      <use xlink:href=\"#DejaVuSans-65\"/>\n",
       "      <use x=\"61.523438\" xlink:href=\"#DejaVuSans-70\"/>\n",
       "      <use x=\"125\" xlink:href=\"#DejaVuSans-6f\"/>\n",
       "      <use x=\"186.181641\" xlink:href=\"#DejaVuSans-63\"/>\n",
       "      <use x=\"241.162109\" xlink:href=\"#DejaVuSans-68\"/>\n",
       "     </g>\n",
       "    </g>\n",
       "   </g>\n",
       "   <g id=\"matplotlib.axis_2\">\n",
       "    <g id=\"ytick_1\">\n",
       "     <g id=\"line2d_11\">\n",
       "      <path clip-path=\"url(#p2deb202ee6)\" d=\"M 68.378125 55.189282 \n",
       "L 263.678125 55.189282 \n",
       "\" style=\"fill:none;stroke:#b0b0b0;stroke-linecap:square;stroke-width:0.8;\"/>\n",
       "     </g>\n",
       "     <g id=\"line2d_12\">\n",
       "      <defs>\n",
       "       <path d=\"M 0 0 \n",
       "L -3.5 0 \n",
       "\" id=\"m3493c962fd\" style=\"stroke:#000000;stroke-width:0.8;\"/>\n",
       "      </defs>\n",
       "      <g>\n",
       "       <use style=\"stroke:#000000;stroke-width:0.8;\" x=\"68.378125\" xlink:href=\"#m3493c962fd\" y=\"55.189282\"/>\n",
       "      </g>\n",
       "     </g>\n",
       "     <g id=\"text_7\">\n",
       "      <!-- $\\mathdefault{10^{0}}$ -->\n",
       "      <g transform=\"translate(43.778125 58.988501)scale(0.1 -0.1)\">\n",
       "       <use transform=\"translate(0 0.765625)\" xlink:href=\"#DejaVuSans-31\"/>\n",
       "       <use transform=\"translate(63.623047 0.765625)\" xlink:href=\"#DejaVuSans-30\"/>\n",
       "       <use transform=\"translate(128.203125 39.046875)scale(0.7)\" xlink:href=\"#DejaVuSans-30\"/>\n",
       "      </g>\n",
       "     </g>\n",
       "    </g>\n",
       "    <g id=\"ytick_2\">\n",
       "     <g id=\"line2d_13\">\n",
       "      <defs>\n",
       "       <path d=\"M 0 0 \n",
       "L -2 0 \n",
       "\" id=\"m0498db63ba\" style=\"stroke:#000000;stroke-width:0.6;\"/>\n",
       "      </defs>\n",
       "      <g>\n",
       "       <use style=\"stroke:#000000;stroke-width:0.6;\" x=\"68.378125\" xlink:href=\"#m0498db63ba\" y=\"123.627932\"/>\n",
       "      </g>\n",
       "     </g>\n",
       "    </g>\n",
       "    <g id=\"ytick_3\">\n",
       "     <g id=\"line2d_14\">\n",
       "      <g>\n",
       "       <use style=\"stroke:#000000;stroke-width:0.6;\" x=\"68.378125\" xlink:href=\"#m0498db63ba\" y=\"105.626212\"/>\n",
       "      </g>\n",
       "     </g>\n",
       "     <g id=\"text_8\">\n",
       "      <!-- $\\mathdefault{6\\times10^{-1}}$ -->\n",
       "      <g transform=\"translate(20.878125 109.425431)scale(0.1 -0.1)\">\n",
       "       <defs>\n",
       "        <path d=\"M 4488 3438 \n",
       "L 3059 2003 \n",
       "L 4488 575 \n",
       "L 4116 197 \n",
       "L 2681 1631 \n",
       "L 1247 197 \n",
       "L 878 575 \n",
       "L 2303 2003 \n",
       "L 878 3438 \n",
       "L 1247 3816 \n",
       "L 2681 2381 \n",
       "L 4116 3816 \n",
       "L 4488 3438 \n",
       "z\n",
       "\" id=\"DejaVuSans-d7\" transform=\"scale(0.015625)\"/>\n",
       "        <path d=\"M 678 2272 \n",
       "L 4684 2272 \n",
       "L 4684 1741 \n",
       "L 678 1741 \n",
       "L 678 2272 \n",
       "z\n",
       "\" id=\"DejaVuSans-2212\" transform=\"scale(0.015625)\"/>\n",
       "       </defs>\n",
       "       <use transform=\"translate(0 0.684375)\" xlink:href=\"#DejaVuSans-36\"/>\n",
       "       <use transform=\"translate(83.105469 0.684375)\" xlink:href=\"#DejaVuSans-d7\"/>\n",
       "       <use transform=\"translate(186.376953 0.684375)\" xlink:href=\"#DejaVuSans-31\"/>\n",
       "       <use transform=\"translate(250 0.684375)\" xlink:href=\"#DejaVuSans-30\"/>\n",
       "       <use transform=\"translate(314.580078 38.965625)scale(0.7)\" xlink:href=\"#DejaVuSans-2212\"/>\n",
       "       <use transform=\"translate(373.232422 38.965625)scale(0.7)\" xlink:href=\"#DejaVuSans-31\"/>\n",
       "      </g>\n",
       "     </g>\n",
       "    </g>\n",
       "    <g id=\"ytick_4\">\n",
       "     <g id=\"line2d_15\">\n",
       "      <g>\n",
       "       <use style=\"stroke:#000000;stroke-width:0.6;\" x=\"68.378125\" xlink:href=\"#m0498db63ba\" y=\"90.405975\"/>\n",
       "      </g>\n",
       "     </g>\n",
       "    </g>\n",
       "    <g id=\"ytick_5\">\n",
       "     <g id=\"line2d_16\">\n",
       "      <g>\n",
       "       <use style=\"stroke:#000000;stroke-width:0.6;\" x=\"68.378125\" xlink:href=\"#m0498db63ba\" y=\"77.221606\"/>\n",
       "      </g>\n",
       "     </g>\n",
       "    </g>\n",
       "    <g id=\"ytick_6\">\n",
       "     <g id=\"line2d_17\">\n",
       "      <g>\n",
       "       <use style=\"stroke:#000000;stroke-width:0.6;\" x=\"68.378125\" xlink:href=\"#m0498db63ba\" y=\"65.592168\"/>\n",
       "      </g>\n",
       "     </g>\n",
       "    </g>\n",
       "    <g id=\"text_9\">\n",
       "     <!-- log rmse -->\n",
       "     <g transform=\"translate(14.798438 96.88125)rotate(-90)scale(0.1 -0.1)\">\n",
       "      <defs>\n",
       "       <path d=\"M 603 4863 \n",
       "L 1178 4863 \n",
       "L 1178 0 \n",
       "L 603 0 \n",
       "L 603 4863 \n",
       "z\n",
       "\" id=\"DejaVuSans-6c\" transform=\"scale(0.015625)\"/>\n",
       "       <path d=\"M 2906 1791 \n",
       "Q 2906 2416 2648 2759 \n",
       "Q 2391 3103 1925 3103 \n",
       "Q 1463 3103 1205 2759 \n",
       "Q 947 2416 947 1791 \n",
       "Q 947 1169 1205 825 \n",
       "Q 1463 481 1925 481 \n",
       "Q 2391 481 2648 825 \n",
       "Q 2906 1169 2906 1791 \n",
       "z\n",
       "M 3481 434 \n",
       "Q 3481 -459 3084 -895 \n",
       "Q 2688 -1331 1869 -1331 \n",
       "Q 1566 -1331 1297 -1286 \n",
       "Q 1028 -1241 775 -1147 \n",
       "L 775 -588 \n",
       "Q 1028 -725 1275 -790 \n",
       "Q 1522 -856 1778 -856 \n",
       "Q 2344 -856 2625 -561 \n",
       "Q 2906 -266 2906 331 \n",
       "L 2906 616 \n",
       "Q 2728 306 2450 153 \n",
       "Q 2172 0 1784 0 \n",
       "Q 1141 0 747 490 \n",
       "Q 353 981 353 1791 \n",
       "Q 353 2603 747 3093 \n",
       "Q 1141 3584 1784 3584 \n",
       "Q 2172 3584 2450 3431 \n",
       "Q 2728 3278 2906 2969 \n",
       "L 2906 3500 \n",
       "L 3481 3500 \n",
       "L 3481 434 \n",
       "z\n",
       "\" id=\"DejaVuSans-67\" transform=\"scale(0.015625)\"/>\n",
       "       <path id=\"DejaVuSans-20\" transform=\"scale(0.015625)\"/>\n",
       "       <path d=\"M 2631 2963 \n",
       "Q 2534 3019 2420 3045 \n",
       "Q 2306 3072 2169 3072 \n",
       "Q 1681 3072 1420 2755 \n",
       "Q 1159 2438 1159 1844 \n",
       "L 1159 0 \n",
       "L 581 0 \n",
       "L 581 3500 \n",
       "L 1159 3500 \n",
       "L 1159 2956 \n",
       "Q 1341 3275 1631 3429 \n",
       "Q 1922 3584 2338 3584 \n",
       "Q 2397 3584 2469 3576 \n",
       "Q 2541 3569 2628 3553 \n",
       "L 2631 2963 \n",
       "z\n",
       "\" id=\"DejaVuSans-72\" transform=\"scale(0.015625)\"/>\n",
       "       <path d=\"M 3328 2828 \n",
       "Q 3544 3216 3844 3400 \n",
       "Q 4144 3584 4550 3584 \n",
       "Q 5097 3584 5394 3201 \n",
       "Q 5691 2819 5691 2113 \n",
       "L 5691 0 \n",
       "L 5113 0 \n",
       "L 5113 2094 \n",
       "Q 5113 2597 4934 2840 \n",
       "Q 4756 3084 4391 3084 \n",
       "Q 3944 3084 3684 2787 \n",
       "Q 3425 2491 3425 1978 \n",
       "L 3425 0 \n",
       "L 2847 0 \n",
       "L 2847 2094 \n",
       "Q 2847 2600 2669 2842 \n",
       "Q 2491 3084 2119 3084 \n",
       "Q 1678 3084 1418 2786 \n",
       "Q 1159 2488 1159 1978 \n",
       "L 1159 0 \n",
       "L 581 0 \n",
       "L 581 3500 \n",
       "L 1159 3500 \n",
       "L 1159 2956 \n",
       "Q 1356 3278 1631 3431 \n",
       "Q 1906 3584 2284 3584 \n",
       "Q 2666 3584 2933 3390 \n",
       "Q 3200 3197 3328 2828 \n",
       "z\n",
       "\" id=\"DejaVuSans-6d\" transform=\"scale(0.015625)\"/>\n",
       "       <path d=\"M 2834 3397 \n",
       "L 2834 2853 \n",
       "Q 2591 2978 2328 3040 \n",
       "Q 2066 3103 1784 3103 \n",
       "Q 1356 3103 1142 2972 \n",
       "Q 928 2841 928 2578 \n",
       "Q 928 2378 1081 2264 \n",
       "Q 1234 2150 1697 2047 \n",
       "L 1894 2003 \n",
       "Q 2506 1872 2764 1633 \n",
       "Q 3022 1394 3022 966 \n",
       "Q 3022 478 2636 193 \n",
       "Q 2250 -91 1575 -91 \n",
       "Q 1294 -91 989 -36 \n",
       "Q 684 19 347 128 \n",
       "L 347 722 \n",
       "Q 666 556 975 473 \n",
       "Q 1284 391 1588 391 \n",
       "Q 1994 391 2212 530 \n",
       "Q 2431 669 2431 922 \n",
       "Q 2431 1156 2273 1281 \n",
       "Q 2116 1406 1581 1522 \n",
       "L 1381 1569 \n",
       "Q 847 1681 609 1914 \n",
       "Q 372 2147 372 2553 \n",
       "Q 372 3047 722 3315 \n",
       "Q 1072 3584 1716 3584 \n",
       "Q 2034 3584 2315 3537 \n",
       "Q 2597 3491 2834 3397 \n",
       "z\n",
       "\" id=\"DejaVuSans-73\" transform=\"scale(0.015625)\"/>\n",
       "      </defs>\n",
       "      <use xlink:href=\"#DejaVuSans-6c\"/>\n",
       "      <use x=\"27.783203\" xlink:href=\"#DejaVuSans-6f\"/>\n",
       "      <use x=\"88.964844\" xlink:href=\"#DejaVuSans-67\"/>\n",
       "      <use x=\"152.441406\" xlink:href=\"#DejaVuSans-20\"/>\n",
       "      <use x=\"184.228516\" xlink:href=\"#DejaVuSans-72\"/>\n",
       "      <use x=\"223.591797\" xlink:href=\"#DejaVuSans-6d\"/>\n",
       "      <use x=\"321.003906\" xlink:href=\"#DejaVuSans-73\"/>\n",
       "      <use x=\"373.103516\" xlink:href=\"#DejaVuSans-65\"/>\n",
       "     </g>\n",
       "    </g>\n",
       "   </g>\n",
       "   <g id=\"line2d_18\">\n",
       "    <path clip-path=\"url(#p2deb202ee6)\" d=\"M 68.378125 13.377273 \n",
       "L 70.350852 114.511931 \n",
       "L 72.32358 115.730973 \n",
       "L 74.296307 120.297561 \n",
       "L 76.269034 122.207639 \n",
       "L 78.241761 122.512096 \n",
       "L 80.214489 124.900625 \n",
       "L 82.187216 129.732679 \n",
       "L 84.159943 133.662381 \n",
       "L 86.13267 135.600789 \n",
       "L 88.105398 133.814922 \n",
       "L 90.078125 133.244139 \n",
       "L 92.050852 133.76416 \n",
       "L 94.02358 134.764071 \n",
       "L 95.996307 134.765455 \n",
       "L 97.969034 135.035439 \n",
       "L 99.941761 133.648642 \n",
       "L 101.914489 133.653665 \n",
       "L 103.887216 133.452337 \n",
       "L 105.859943 133.504942 \n",
       "L 107.83267 133.554199 \n",
       "L 109.805398 132.522584 \n",
       "L 111.778125 133.275172 \n",
       "L 113.750852 133.287386 \n",
       "L 115.72358 133.753165 \n",
       "L 117.696307 134.308512 \n",
       "L 119.669034 133.107854 \n",
       "L 121.641761 135.209982 \n",
       "L 123.614489 133.439199 \n",
       "L 125.587216 132.732858 \n",
       "L 127.559943 133.837155 \n",
       "L 129.53267 133.633818 \n",
       "L 131.505398 134.269064 \n",
       "L 133.478125 133.630021 \n",
       "L 135.450852 133.705094 \n",
       "L 137.42358 133.729661 \n",
       "L 139.396307 135.519681 \n",
       "L 141.369034 134.66383 \n",
       "L 143.341761 133.92147 \n",
       "L 145.314489 134.349268 \n",
       "L 147.287216 133.171964 \n",
       "L 149.259943 134.461274 \n",
       "L 151.23267 133.904496 \n",
       "L 153.205398 133.764238 \n",
       "L 155.178125 132.757501 \n",
       "L 157.150852 133.733697 \n",
       "L 159.12358 134.573578 \n",
       "L 161.096307 133.374754 \n",
       "L 163.069034 133.585329 \n",
       "L 165.041761 133.371629 \n",
       "L 167.014489 135.338268 \n",
       "L 168.987216 133.952946 \n",
       "L 170.959943 133.781032 \n",
       "L 172.93267 133.314316 \n",
       "L 174.905398 134.735616 \n",
       "L 176.878125 136.358756 \n",
       "L 178.850852 134.328226 \n",
       "L 180.82358 133.137043 \n",
       "L 182.796307 133.857649 \n",
       "L 184.769034 133.844432 \n",
       "L 186.741761 136.922727 \n",
       "L 188.714489 134.489151 \n",
       "L 190.687216 134.713009 \n",
       "L 192.659943 133.85263 \n",
       "L 194.63267 134.705629 \n",
       "L 196.605398 133.612719 \n",
       "L 198.578125 133.429554 \n",
       "L 200.550852 134.728023 \n",
       "L 202.52358 136.684807 \n",
       "L 204.496307 132.964557 \n",
       "L 206.469034 134.644582 \n",
       "L 208.441761 132.883601 \n",
       "L 210.414489 134.338471 \n",
       "L 212.387216 133.796935 \n",
       "L 214.359943 134.298657 \n",
       "L 216.33267 132.894163 \n",
       "L 218.305398 134.699196 \n",
       "L 220.278125 134.753518 \n",
       "L 222.250852 134.003027 \n",
       "L 224.22358 134.636002 \n",
       "L 226.196307 135.174267 \n",
       "L 228.169034 133.991411 \n",
       "L 230.141761 134.733173 \n",
       "L 232.114489 134.573447 \n",
       "L 234.087216 133.444399 \n",
       "L 236.059943 133.569167 \n",
       "L 238.03267 134.414997 \n",
       "L 240.005398 133.71989 \n",
       "L 241.978125 134.506976 \n",
       "L 243.950852 134.475166 \n",
       "L 245.92358 134.656716 \n",
       "L 247.896307 134.254926 \n",
       "L 249.869034 134.577872 \n",
       "L 251.841761 134.951586 \n",
       "L 253.814489 133.08747 \n",
       "L 255.787216 136.161798 \n",
       "L 257.759943 133.974608 \n",
       "L 259.73267 134.895347 \n",
       "L 261.705398 134.760534 \n",
       "L 263.678125 135.815385 \n",
       "\" style=\"fill:none;stroke:#1f77b4;stroke-linecap:square;stroke-width:1.5;\"/>\n",
       "   </g>\n",
       "   <g id=\"patch_3\">\n",
       "    <path d=\"M 68.378125 143.1 \n",
       "L 68.378125 7.2 \n",
       "\" style=\"fill:none;stroke:#000000;stroke-linecap:square;stroke-linejoin:miter;stroke-width:0.8;\"/>\n",
       "   </g>\n",
       "   <g id=\"patch_4\">\n",
       "    <path d=\"M 263.678125 143.1 \n",
       "L 263.678125 7.2 \n",
       "\" style=\"fill:none;stroke:#000000;stroke-linecap:square;stroke-linejoin:miter;stroke-width:0.8;\"/>\n",
       "   </g>\n",
       "   <g id=\"patch_5\">\n",
       "    <path d=\"M 68.378125 143.1 \n",
       "L 263.678125 143.1 \n",
       "\" style=\"fill:none;stroke:#000000;stroke-linecap:square;stroke-linejoin:miter;stroke-width:0.8;\"/>\n",
       "   </g>\n",
       "   <g id=\"patch_6\">\n",
       "    <path d=\"M 68.378125 7.2 \n",
       "L 263.678125 7.2 \n",
       "\" style=\"fill:none;stroke:#000000;stroke-linecap:square;stroke-linejoin:miter;stroke-width:0.8;\"/>\n",
       "   </g>\n",
       "  </g>\n",
       " </g>\n",
       " <defs>\n",
       "  <clipPath id=\"p2deb202ee6\">\n",
       "   <rect height=\"135.9\" width=\"195.3\" x=\"68.378125\" y=\"7.2\"/>\n",
       "  </clipPath>\n",
       " </defs>\n",
       "</svg>\n"
      ],
      "text/plain": [
       "<Figure size 252x180 with 1 Axes>"
      ]
     },
     "metadata": {
      "needs_background": "light"
     },
     "output_type": "display_data"
    }
   ],
   "source": [
    "train_and_pred(train_features, test_features, train_labels, test_data,\n",
    "               num_epochs, lr, weight_decay, batch_size)"
   ]
  }
 ],
 "metadata": {
  "kernelspec": {
   "display_name": "Python 3",
   "language": "python",
   "name": "python3"
  },
  "language_info": {
   "codemirror_mode": {
    "name": "ipython",
    "version": 3
   },
   "file_extension": ".py",
   "mimetype": "text/x-python",
   "name": "python",
   "nbconvert_exporter": "python",
   "pygments_lexer": "ipython3",
   "version": "3.7.10"
  },
  "papermill": {
   "default_parameters": {},
   "duration": 806.944075,
   "end_time": "2021-06-11T02:17:25.202049",
   "environment_variables": {},
   "exception": null,
   "input_path": "__notebook__.ipynb",
   "output_path": "__notebook__.ipynb",
   "parameters": {},
   "start_time": "2021-06-11T02:03:58.257974",
   "version": "2.3.3"
  }
 },
 "nbformat": 4,
 "nbformat_minor": 5
}
